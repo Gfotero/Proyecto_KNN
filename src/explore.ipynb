{
    "cells": [
        {
            "cell_type": "markdown",
            "metadata": {},
            "source": [
                "## KNN Model"
            ]
        },
        {
            "cell_type": "markdown",
            "metadata": {},
            "source": [
                "#### Librerias a utilizar"
            ]
        },
        {
            "cell_type": "code",
            "execution_count": 721,
            "metadata": {},
            "outputs": [],
            "source": [
                "import pandas as pd\n",
                "from sklearn.model_selection import train_test_split\n",
                "import matplotlib.pyplot as plt\n",
                "import seaborn as sns\n",
                "from sklearn.neighbors import KNeighborsClassifier\n",
                "from sklearn.metrics import accuracy_score\n",
                "import os\n",
                "from flask_sqlalchemy import SQLAlchemy\n",
                "import sqlalchemy\n",
                "from sqlalchemy import *\n",
                "import psycopg2\n",
                "from sqlalchemy.sql import *\n",
                "import json\n",
                "from psycopg2 import extras\n",
                "import warnings\n",
                "warnings.filterwarnings(\"ignore\")\n",
                "import unicodedata\n",
                "from sklearn.feature_extraction.text import CountVectorizer\n",
                "from sklearn.metrics.pairwise import cosine_similarity\n"
            ]
        },
        {
            "cell_type": "markdown",
            "metadata": {},
            "source": [
                "#### Paso 1. Lectura del conjunto de datos"
            ]
        },
        {
            "cell_type": "code",
            "execution_count": 722,
            "metadata": {},
            "outputs": [],
            "source": [
                "data_m=pd.read_csv('https://raw.githubusercontent.com/4GeeksAcademy/k-nearest-neighbors-project-tutorial/main/tmdb_5000_movies.csv',encoding='utf-8')\n",
                "data_c=pd.read_csv('https://raw.githubusercontent.com/4GeeksAcademy/k-nearest-neighbors-project-tutorial/main/tmdb_5000_credits.csv', encoding='utf-8')"
            ]
        },
        {
            "cell_type": "code",
            "execution_count": 723,
            "metadata": {},
            "outputs": [
                {
                    "name": "stdout",
                    "output_type": "stream",
                    "text": [
                        "(4803, 20) (4803, 4)\n"
                    ]
                }
            ],
            "source": [
                "print(data_m.shape, data_c.shape)"
            ]
        },
        {
            "cell_type": "code",
            "execution_count": 724,
            "metadata": {},
            "outputs": [
                {
                    "data": {
                        "text/html": [
                            "<div>\n",
                            "<style scoped>\n",
                            "    .dataframe tbody tr th:only-of-type {\n",
                            "        vertical-align: middle;\n",
                            "    }\n",
                            "\n",
                            "    .dataframe tbody tr th {\n",
                            "        vertical-align: top;\n",
                            "    }\n",
                            "\n",
                            "    .dataframe thead th {\n",
                            "        text-align: right;\n",
                            "    }\n",
                            "</style>\n",
                            "<table border=\"1\" class=\"dataframe\">\n",
                            "  <thead>\n",
                            "    <tr style=\"text-align: right;\">\n",
                            "      <th></th>\n",
                            "      <th>budget</th>\n",
                            "      <th>genres</th>\n",
                            "      <th>homepage</th>\n",
                            "      <th>id</th>\n",
                            "      <th>keywords</th>\n",
                            "      <th>original_language</th>\n",
                            "      <th>original_title</th>\n",
                            "      <th>overview</th>\n",
                            "      <th>popularity</th>\n",
                            "      <th>production_companies</th>\n",
                            "      <th>production_countries</th>\n",
                            "      <th>release_date</th>\n",
                            "      <th>revenue</th>\n",
                            "      <th>runtime</th>\n",
                            "      <th>spoken_languages</th>\n",
                            "      <th>status</th>\n",
                            "      <th>tagline</th>\n",
                            "      <th>title</th>\n",
                            "      <th>vote_average</th>\n",
                            "      <th>vote_count</th>\n",
                            "    </tr>\n",
                            "  </thead>\n",
                            "  <tbody>\n",
                            "    <tr>\n",
                            "      <th>0</th>\n",
                            "      <td>237000000</td>\n",
                            "      <td>[{\"id\": 28, \"name\": \"Action\"}, {\"id\": 12, \"nam...</td>\n",
                            "      <td>http://www.avatarmovie.com/</td>\n",
                            "      <td>19995</td>\n",
                            "      <td>[{\"id\": 1463, \"name\": \"culture clash\"}, {\"id\":...</td>\n",
                            "      <td>en</td>\n",
                            "      <td>Avatar</td>\n",
                            "      <td>In the 22nd century, a paraplegic Marine is di...</td>\n",
                            "      <td>150.437577</td>\n",
                            "      <td>[{\"name\": \"Ingenious Film Partners\", \"id\": 289...</td>\n",
                            "      <td>[{\"iso_3166_1\": \"US\", \"name\": \"United States o...</td>\n",
                            "      <td>2009-12-10</td>\n",
                            "      <td>2787965087</td>\n",
                            "      <td>162.0</td>\n",
                            "      <td>[{\"iso_639_1\": \"en\", \"name\": \"English\"}, {\"iso...</td>\n",
                            "      <td>Released</td>\n",
                            "      <td>Enter the World of Pandora.</td>\n",
                            "      <td>Avatar</td>\n",
                            "      <td>7.2</td>\n",
                            "      <td>11800</td>\n",
                            "    </tr>\n",
                            "    <tr>\n",
                            "      <th>1</th>\n",
                            "      <td>300000000</td>\n",
                            "      <td>[{\"id\": 12, \"name\": \"Adventure\"}, {\"id\": 14, \"...</td>\n",
                            "      <td>http://disney.go.com/disneypictures/pirates/</td>\n",
                            "      <td>285</td>\n",
                            "      <td>[{\"id\": 270, \"name\": \"ocean\"}, {\"id\": 726, \"na...</td>\n",
                            "      <td>en</td>\n",
                            "      <td>Pirates of the Caribbean: At World's End</td>\n",
                            "      <td>Captain Barbossa, long believed to be dead, ha...</td>\n",
                            "      <td>139.082615</td>\n",
                            "      <td>[{\"name\": \"Walt Disney Pictures\", \"id\": 2}, {\"...</td>\n",
                            "      <td>[{\"iso_3166_1\": \"US\", \"name\": \"United States o...</td>\n",
                            "      <td>2007-05-19</td>\n",
                            "      <td>961000000</td>\n",
                            "      <td>169.0</td>\n",
                            "      <td>[{\"iso_639_1\": \"en\", \"name\": \"English\"}]</td>\n",
                            "      <td>Released</td>\n",
                            "      <td>At the end of the world, the adventure begins.</td>\n",
                            "      <td>Pirates of the Caribbean: At World's End</td>\n",
                            "      <td>6.9</td>\n",
                            "      <td>4500</td>\n",
                            "    </tr>\n",
                            "    <tr>\n",
                            "      <th>2</th>\n",
                            "      <td>245000000</td>\n",
                            "      <td>[{\"id\": 28, \"name\": \"Action\"}, {\"id\": 12, \"nam...</td>\n",
                            "      <td>http://www.sonypictures.com/movies/spectre/</td>\n",
                            "      <td>206647</td>\n",
                            "      <td>[{\"id\": 470, \"name\": \"spy\"}, {\"id\": 818, \"name...</td>\n",
                            "      <td>en</td>\n",
                            "      <td>Spectre</td>\n",
                            "      <td>A cryptic message from Bond’s past sends him o...</td>\n",
                            "      <td>107.376788</td>\n",
                            "      <td>[{\"name\": \"Columbia Pictures\", \"id\": 5}, {\"nam...</td>\n",
                            "      <td>[{\"iso_3166_1\": \"GB\", \"name\": \"United Kingdom\"...</td>\n",
                            "      <td>2015-10-26</td>\n",
                            "      <td>880674609</td>\n",
                            "      <td>148.0</td>\n",
                            "      <td>[{\"iso_639_1\": \"fr\", \"name\": \"Fran\\u00e7ais\"},...</td>\n",
                            "      <td>Released</td>\n",
                            "      <td>A Plan No One Escapes</td>\n",
                            "      <td>Spectre</td>\n",
                            "      <td>6.3</td>\n",
                            "      <td>4466</td>\n",
                            "    </tr>\n",
                            "    <tr>\n",
                            "      <th>3</th>\n",
                            "      <td>250000000</td>\n",
                            "      <td>[{\"id\": 28, \"name\": \"Action\"}, {\"id\": 80, \"nam...</td>\n",
                            "      <td>http://www.thedarkknightrises.com/</td>\n",
                            "      <td>49026</td>\n",
                            "      <td>[{\"id\": 849, \"name\": \"dc comics\"}, {\"id\": 853,...</td>\n",
                            "      <td>en</td>\n",
                            "      <td>The Dark Knight Rises</td>\n",
                            "      <td>Following the death of District Attorney Harve...</td>\n",
                            "      <td>112.312950</td>\n",
                            "      <td>[{\"name\": \"Legendary Pictures\", \"id\": 923}, {\"...</td>\n",
                            "      <td>[{\"iso_3166_1\": \"US\", \"name\": \"United States o...</td>\n",
                            "      <td>2012-07-16</td>\n",
                            "      <td>1084939099</td>\n",
                            "      <td>165.0</td>\n",
                            "      <td>[{\"iso_639_1\": \"en\", \"name\": \"English\"}]</td>\n",
                            "      <td>Released</td>\n",
                            "      <td>The Legend Ends</td>\n",
                            "      <td>The Dark Knight Rises</td>\n",
                            "      <td>7.6</td>\n",
                            "      <td>9106</td>\n",
                            "    </tr>\n",
                            "    <tr>\n",
                            "      <th>4</th>\n",
                            "      <td>260000000</td>\n",
                            "      <td>[{\"id\": 28, \"name\": \"Action\"}, {\"id\": 12, \"nam...</td>\n",
                            "      <td>http://movies.disney.com/john-carter</td>\n",
                            "      <td>49529</td>\n",
                            "      <td>[{\"id\": 818, \"name\": \"based on novel\"}, {\"id\":...</td>\n",
                            "      <td>en</td>\n",
                            "      <td>John Carter</td>\n",
                            "      <td>John Carter is a war-weary, former military ca...</td>\n",
                            "      <td>43.926995</td>\n",
                            "      <td>[{\"name\": \"Walt Disney Pictures\", \"id\": 2}]</td>\n",
                            "      <td>[{\"iso_3166_1\": \"US\", \"name\": \"United States o...</td>\n",
                            "      <td>2012-03-07</td>\n",
                            "      <td>284139100</td>\n",
                            "      <td>132.0</td>\n",
                            "      <td>[{\"iso_639_1\": \"en\", \"name\": \"English\"}]</td>\n",
                            "      <td>Released</td>\n",
                            "      <td>Lost in our world, found in another.</td>\n",
                            "      <td>John Carter</td>\n",
                            "      <td>6.1</td>\n",
                            "      <td>2124</td>\n",
                            "    </tr>\n",
                            "  </tbody>\n",
                            "</table>\n",
                            "</div>"
                        ],
                        "text/plain": [
                            "      budget                                             genres  \\\n",
                            "0  237000000  [{\"id\": 28, \"name\": \"Action\"}, {\"id\": 12, \"nam...   \n",
                            "1  300000000  [{\"id\": 12, \"name\": \"Adventure\"}, {\"id\": 14, \"...   \n",
                            "2  245000000  [{\"id\": 28, \"name\": \"Action\"}, {\"id\": 12, \"nam...   \n",
                            "3  250000000  [{\"id\": 28, \"name\": \"Action\"}, {\"id\": 80, \"nam...   \n",
                            "4  260000000  [{\"id\": 28, \"name\": \"Action\"}, {\"id\": 12, \"nam...   \n",
                            "\n",
                            "                                       homepage      id  \\\n",
                            "0                   http://www.avatarmovie.com/   19995   \n",
                            "1  http://disney.go.com/disneypictures/pirates/     285   \n",
                            "2   http://www.sonypictures.com/movies/spectre/  206647   \n",
                            "3            http://www.thedarkknightrises.com/   49026   \n",
                            "4          http://movies.disney.com/john-carter   49529   \n",
                            "\n",
                            "                                            keywords original_language  \\\n",
                            "0  [{\"id\": 1463, \"name\": \"culture clash\"}, {\"id\":...                en   \n",
                            "1  [{\"id\": 270, \"name\": \"ocean\"}, {\"id\": 726, \"na...                en   \n",
                            "2  [{\"id\": 470, \"name\": \"spy\"}, {\"id\": 818, \"name...                en   \n",
                            "3  [{\"id\": 849, \"name\": \"dc comics\"}, {\"id\": 853,...                en   \n",
                            "4  [{\"id\": 818, \"name\": \"based on novel\"}, {\"id\":...                en   \n",
                            "\n",
                            "                             original_title  \\\n",
                            "0                                    Avatar   \n",
                            "1  Pirates of the Caribbean: At World's End   \n",
                            "2                                   Spectre   \n",
                            "3                     The Dark Knight Rises   \n",
                            "4                               John Carter   \n",
                            "\n",
                            "                                            overview  popularity  \\\n",
                            "0  In the 22nd century, a paraplegic Marine is di...  150.437577   \n",
                            "1  Captain Barbossa, long believed to be dead, ha...  139.082615   \n",
                            "2  A cryptic message from Bond’s past sends him o...  107.376788   \n",
                            "3  Following the death of District Attorney Harve...  112.312950   \n",
                            "4  John Carter is a war-weary, former military ca...   43.926995   \n",
                            "\n",
                            "                                production_companies  \\\n",
                            "0  [{\"name\": \"Ingenious Film Partners\", \"id\": 289...   \n",
                            "1  [{\"name\": \"Walt Disney Pictures\", \"id\": 2}, {\"...   \n",
                            "2  [{\"name\": \"Columbia Pictures\", \"id\": 5}, {\"nam...   \n",
                            "3  [{\"name\": \"Legendary Pictures\", \"id\": 923}, {\"...   \n",
                            "4        [{\"name\": \"Walt Disney Pictures\", \"id\": 2}]   \n",
                            "\n",
                            "                                production_countries release_date     revenue  \\\n",
                            "0  [{\"iso_3166_1\": \"US\", \"name\": \"United States o...   2009-12-10  2787965087   \n",
                            "1  [{\"iso_3166_1\": \"US\", \"name\": \"United States o...   2007-05-19   961000000   \n",
                            "2  [{\"iso_3166_1\": \"GB\", \"name\": \"United Kingdom\"...   2015-10-26   880674609   \n",
                            "3  [{\"iso_3166_1\": \"US\", \"name\": \"United States o...   2012-07-16  1084939099   \n",
                            "4  [{\"iso_3166_1\": \"US\", \"name\": \"United States o...   2012-03-07   284139100   \n",
                            "\n",
                            "   runtime                                   spoken_languages    status  \\\n",
                            "0    162.0  [{\"iso_639_1\": \"en\", \"name\": \"English\"}, {\"iso...  Released   \n",
                            "1    169.0           [{\"iso_639_1\": \"en\", \"name\": \"English\"}]  Released   \n",
                            "2    148.0  [{\"iso_639_1\": \"fr\", \"name\": \"Fran\\u00e7ais\"},...  Released   \n",
                            "3    165.0           [{\"iso_639_1\": \"en\", \"name\": \"English\"}]  Released   \n",
                            "4    132.0           [{\"iso_639_1\": \"en\", \"name\": \"English\"}]  Released   \n",
                            "\n",
                            "                                          tagline  \\\n",
                            "0                     Enter the World of Pandora.   \n",
                            "1  At the end of the world, the adventure begins.   \n",
                            "2                           A Plan No One Escapes   \n",
                            "3                                 The Legend Ends   \n",
                            "4            Lost in our world, found in another.   \n",
                            "\n",
                            "                                      title  vote_average  vote_count  \n",
                            "0                                    Avatar           7.2       11800  \n",
                            "1  Pirates of the Caribbean: At World's End           6.9        4500  \n",
                            "2                                   Spectre           6.3        4466  \n",
                            "3                     The Dark Knight Rises           7.6        9106  \n",
                            "4                               John Carter           6.1        2124  "
                        ]
                    },
                    "execution_count": 724,
                    "metadata": {},
                    "output_type": "execute_result"
                }
            ],
            "source": [
                "data_m.head()"
            ]
        },
        {
            "cell_type": "code",
            "execution_count": 725,
            "metadata": {},
            "outputs": [
                {
                    "data": {
                        "text/plain": [
                            "Index(['budget', 'genres', 'homepage', 'id', 'keywords', 'original_language',\n",
                            "       'original_title', 'overview', 'popularity', 'production_companies',\n",
                            "       'production_countries', 'release_date', 'revenue', 'runtime',\n",
                            "       'spoken_languages', 'status', 'tagline', 'title', 'vote_average',\n",
                            "       'vote_count'],\n",
                            "      dtype='object')"
                        ]
                    },
                    "execution_count": 725,
                    "metadata": {},
                    "output_type": "execute_result"
                }
            ],
            "source": [
                "data_m.columns"
            ]
        },
        {
            "cell_type": "code",
            "execution_count": 726,
            "metadata": {},
            "outputs": [
                {
                    "name": "stdout",
                    "output_type": "stream",
                    "text": [
                        "<class 'pandas.core.frame.DataFrame'>\n",
                        "RangeIndex: 4803 entries, 0 to 4802\n",
                        "Data columns (total 20 columns):\n",
                        " #   Column                Non-Null Count  Dtype  \n",
                        "---  ------                --------------  -----  \n",
                        " 0   budget                4803 non-null   int64  \n",
                        " 1   genres                4803 non-null   object \n",
                        " 2   homepage              1712 non-null   object \n",
                        " 3   id                    4803 non-null   int64  \n",
                        " 4   keywords              4803 non-null   object \n",
                        " 5   original_language     4803 non-null   object \n",
                        " 6   original_title        4803 non-null   object \n",
                        " 7   overview              4800 non-null   object \n",
                        " 8   popularity            4803 non-null   float64\n",
                        " 9   production_companies  4803 non-null   object \n",
                        " 10  production_countries  4803 non-null   object \n",
                        " 11  release_date          4802 non-null   object \n",
                        " 12  revenue               4803 non-null   int64  \n",
                        " 13  runtime               4801 non-null   float64\n",
                        " 14  spoken_languages      4803 non-null   object \n",
                        " 15  status                4803 non-null   object \n",
                        " 16  tagline               3959 non-null   object \n",
                        " 17  title                 4803 non-null   object \n",
                        " 18  vote_average          4803 non-null   float64\n",
                        " 19  vote_count            4803 non-null   int64  \n",
                        "dtypes: float64(3), int64(4), object(13)\n",
                        "memory usage: 750.6+ KB\n"
                    ]
                }
            ],
            "source": [
                "data_m.info()"
            ]
        },
        {
            "cell_type": "code",
            "execution_count": 727,
            "metadata": {},
            "outputs": [
                {
                    "name": "stdout",
                    "output_type": "stream",
                    "text": [
                        "<class 'pandas.core.frame.DataFrame'>\n",
                        "RangeIndex: 4803 entries, 0 to 4802\n",
                        "Data columns (total 4 columns):\n",
                        " #   Column    Non-Null Count  Dtype \n",
                        "---  ------    --------------  ----- \n",
                        " 0   movie_id  4803 non-null   int64 \n",
                        " 1   title     4803 non-null   object\n",
                        " 2   cast      4803 non-null   object\n",
                        " 3   crew      4803 non-null   object\n",
                        "dtypes: int64(1), object(3)\n",
                        "memory usage: 150.2+ KB\n"
                    ]
                }
            ],
            "source": [
                "data_c.info()"
            ]
        },
        {
            "cell_type": "code",
            "execution_count": 728,
            "metadata": {},
            "outputs": [
                {
                    "name": "stdout",
                    "output_type": "stream",
                    "text": [
                        "3\n"
                    ]
                }
            ],
            "source": [
                "dups=data_c['title'].duplicated().sum()\n",
                "print(dups)\n",
                "\n",
                "registros_dup=data_c[data_c['title'].duplicated(keep=False)]\n",
                "registros_dup\n",
                "\n",
                "data_m.drop_duplicates(subset=['title'], inplace=True)\t\n",
                "data_c.drop_duplicates(subset=['title'], inplace=True)\t"
            ]
        },
        {
            "cell_type": "code",
            "execution_count": 729,
            "metadata": {},
            "outputs": [],
            "source": [
                "data_m.drop_duplicates(subset=['title'], inplace=True)\t"
            ]
        },
        {
            "cell_type": "code",
            "execution_count": 730,
            "metadata": {},
            "outputs": [
                {
                    "data": {
                        "text/plain": [
                            "'In the 22nd century, a paraplegic Marine is dispatched to the moon Pandora on a unique mission, but becomes torn between following orders and protecting an alien civilization.'"
                        ]
                    },
                    "execution_count": 730,
                    "metadata": {},
                    "output_type": "execute_result"
                }
            ],
            "source": [
                "data_m['overview'][0]"
            ]
        },
        {
            "cell_type": "markdown",
            "metadata": {},
            "source": [
                "##### Procesamiento de la data previa carga en Postgret SQL\n",
                "\n",
                "- Eliminando espacios en blanco al principio y final de las columnas tipo string (simultaneo se transforman en minusculas) y las numericas.\n",
                "\n",
                "- Se crea funcion clean string para diferenciar de forma adecuada los tipo de data existentes"
            ]
        },
        {
            "cell_type": "code",
            "execution_count": 731,
            "metadata": {},
            "outputs": [],
            "source": [
                "def clean_string(x):\n",
                "    if isinstance(x, str):  # solo aplicar a strings\n",
                "        return x.strip().lower()\n",
                "    elif isinstance(x, dict) or isinstance(x, list):  # si es un objeto JSON, dejarlo intacto\n",
                "        return x\n",
                "    else:\n",
                "        return x  # si es otro tipo de dato, dejarlo intacto\n",
                "\n",
                "for colm in data_m.columns:\n",
                "    if data_m[colm].dtype.kind in ['i', 'f']:  # solo aplicar a columnas de tipo int o float\n",
                "        data_m[colm] = data_m[colm].astype(str).str.strip().astype(data_m[colm].dtype)\n",
                "    else:\n",
                "        data_m[colm] = data_m[colm].apply(clean_string)\n",
                "\n",
                "for colc in data_c.columns:\n",
                "    if data_c[colc].dtype.kind in ['i', 'f']:  # solo aplicar a columnas de tipo int o float\n",
                "        data_c[colc] = data_c[colc].astype(str).str.strip().astype(data_c[colc].dtype)\n",
                "    else:\n",
                "        data_c[colc] = data_c[colc].apply(clean_string)"
            ]
        },
        {
            "cell_type": "code",
            "execution_count": 732,
            "metadata": {},
            "outputs": [
                {
                    "name": "stdout",
                    "output_type": "stream",
                    "text": [
                        "<class 'pandas.core.frame.DataFrame'>\n",
                        "Index: 4800 entries, 0 to 4802\n",
                        "Data columns (total 20 columns):\n",
                        " #   Column                Non-Null Count  Dtype  \n",
                        "---  ------                --------------  -----  \n",
                        " 0   budget                4800 non-null   int64  \n",
                        " 1   genres                4800 non-null   object \n",
                        " 2   homepage              1711 non-null   object \n",
                        " 3   id                    4800 non-null   int64  \n",
                        " 4   keywords              4800 non-null   object \n",
                        " 5   original_language     4800 non-null   object \n",
                        " 6   original_title        4800 non-null   object \n",
                        " 7   overview              4797 non-null   object \n",
                        " 8   popularity            4800 non-null   float64\n",
                        " 9   production_companies  4800 non-null   object \n",
                        " 10  production_countries  4800 non-null   object \n",
                        " 11  release_date          4799 non-null   object \n",
                        " 12  revenue               4800 non-null   int64  \n",
                        " 13  runtime               4798 non-null   float64\n",
                        " 14  spoken_languages      4800 non-null   object \n",
                        " 15  status                4800 non-null   object \n",
                        " 16  tagline               3956 non-null   object \n",
                        " 17  title                 4800 non-null   object \n",
                        " 18  vote_average          4800 non-null   float64\n",
                        " 19  vote_count            4800 non-null   int64  \n",
                        "dtypes: float64(3), int64(4), object(13)\n",
                        "memory usage: 916.5+ KB\n"
                    ]
                }
            ],
            "source": [
                "data_m.info()"
            ]
        },
        {
            "cell_type": "code",
            "execution_count": 733,
            "metadata": {},
            "outputs": [
                {
                    "name": "stdout",
                    "output_type": "stream",
                    "text": [
                        "<class 'pandas.core.frame.DataFrame'>\n",
                        "Index: 4800 entries, 0 to 4802\n",
                        "Data columns (total 4 columns):\n",
                        " #   Column    Non-Null Count  Dtype \n",
                        "---  ------    --------------  ----- \n",
                        " 0   movie_id  4800 non-null   int64 \n",
                        " 1   title     4800 non-null   object\n",
                        " 2   cast      4800 non-null   object\n",
                        " 3   crew      4800 non-null   object\n",
                        "dtypes: int64(1), object(3)\n",
                        "memory usage: 187.5+ KB\n"
                    ]
                }
            ],
            "source": [
                "data_c.info()"
            ]
        },
        {
            "cell_type": "markdown",
            "metadata": {},
            "source": [
                "#### Paso 2: Creación de una base de datos"
            ]
        },
        {
            "cell_type": "code",
            "execution_count": 734,
            "metadata": {},
            "outputs": [
                {
                    "name": "stdout",
                    "output_type": "stream",
                    "text": [
                        "Conectado correctamente a la base de datos\n"
                    ]
                }
            ],
            "source": [
                "# Credenciales Base de Datos\n",
                "\n",
                "user = 'postgres'       #0\n",
                "password = 'america'    #1\n",
                "host = 'localhost'      #2\n",
                "port = 5432             #3\n",
                "database = 'postgres'   #4\n",
                "\n",
                "# Conectandome a mi Base de Datos en PostgreSQL: \n",
                "\n",
                "conn = psycopg2.connect(database=database, user=user, host=host, password=password, port=port)\n",
                "cur = conn.cursor()\n",
                "\n",
                "# Verificando conexion con Postgres SQL\n",
                "if isinstance(conn, psycopg2.extensions.connection):\n",
                "    print(\"Conectado correctamente a la base de datos\")\n",
                "\n"
            ]
        },
        {
            "cell_type": "code",
            "execution_count": 735,
            "metadata": {},
            "outputs": [],
            "source": [
                "\n",
                "# Función para convertir DataFrame a lista de tuplas\n",
                "def df_to_tuplas(df):\n",
                "    return [tuple(x) for x in df.to_numpy()]\n",
                "\n",
                "# Insertar datos en la tabla Peliculas\n",
                "def insert_data(df, table_name):\n",
                "    tuplas = df_to_tuplas(df)\n",
                "    cols = ','.join([f'\"{col}\"' for col in df.columns])\n",
                "    query  = f\"INSERT INTO {table_name}({cols}) VALUES %s\"\n",
                "    psycopg2.extras.execute_values(cur, query, tuplas)\n"
            ]
        },
        {
            "cell_type": "code",
            "execution_count": 736,
            "metadata": {},
            "outputs": [
                {
                    "name": "stdout",
                    "output_type": "stream",
                    "text": [
                        "Tablas creadas e insertadas exitosamente.\n"
                    ]
                }
            ],
            "source": [
                "# Crear tablas e insertar datos\n",
                "conn = psycopg2.connect(database=database, user=user, host=host, password=password, port=port)\n",
                "cur = conn.cursor()\n",
                "try:\n",
                "    cur.execute(\"DROP TABLE IF EXISTS Peliculas\")\n",
                "    cur.execute(\"\"\"\n",
                "    CREATE TABLE Peliculas (\n",
                "        budget bigint, \n",
                "        genres text, \n",
                "        homepage text, \n",
                "        id bigint, \n",
                "        keywords text, \n",
                "        original_language character varying(10), \n",
                "        original_title text, \n",
                "        overview text, \n",
                "        popularity double precision, \n",
                "        production_companies text, \n",
                "        production_countries text, \n",
                "        release_date character varying(15), \n",
                "        revenue bigint, \n",
                "        runtime double precision, \n",
                "        spoken_languages text, \n",
                "        status text, \n",
                "        tagline text, \n",
                "        title text, \n",
                "        vote_average double precision, \n",
                "        vote_count bigint,\n",
                "        PRIMARY KEY(title))\n",
                "\"\"\")\n",
                "    cur.execute(\"DROP TABLE IF EXISTS Creditos\")\n",
                "    cur.execute(\"\"\"CREATE TABLE Creditos (movie_id integer, title text, crew text, \n",
                "                \"cast\" text, PRIMARY KEY(title))\"\"\")         \n",
                "    \n",
                "\n",
                "    insert_data(data_m, 'Peliculas')\n",
                "    insert_data(data_c, 'Creditos')\n",
                "\n",
                "    conn.commit()\n",
                "    print(\"Tablas creadas e insertadas exitosamente.\")\n",
                "except UnicodeDecodeError as e:\n",
                "    print(f\"Error de codificación: {e}\")\n",
                "#except Exception as e:\n",
                "    print(f\"Ha ocurrido un error: {e}\")\n",
                "finally:\n",
                "    cur.close()\n",
                "    conn.close()\n",
                "\n"
            ]
        },
        {
            "cell_type": "code",
            "execution_count": 737,
            "metadata": {},
            "outputs": [
                {
                    "data": {
                        "text/plain": [
                            "(4800, 23)"
                        ]
                    },
                    "execution_count": 737,
                    "metadata": {},
                    "output_type": "execute_result"
                }
            ],
            "source": [
                "conn = psycopg2.connect(database=database, user=user, host=host, password=password, port=port)\n",
                "cur = conn.cursor()\n",
                "\n",
                "# Ejecutar una consulta SQL para seleccionar todos los datos de la tabla\n",
                "cur.execute(\"SELECT * FROM peliculas_creditos\")\n",
                "\n",
                "# Obtener los resultados de la consulta\n",
                "rows = cur.fetchall()\n",
                "\n",
                "# Cerrar el cursor\n",
                "cur.close()\n",
                "# Cerrar la conexión\n",
                "conn.close()\n",
                "\n",
                "# Convertir los resultados en un DataFrame de Pandas\n",
                "data_f = pd.DataFrame(rows, columns=[column[0] for column in cur.description])\n",
                "\n",
                "data_f.shape"
            ]
        },
        {
            "cell_type": "code",
            "execution_count": 738,
            "metadata": {},
            "outputs": [
                {
                    "data": {
                        "text/html": [
                            "<div>\n",
                            "<style scoped>\n",
                            "    .dataframe tbody tr th:only-of-type {\n",
                            "        vertical-align: middle;\n",
                            "    }\n",
                            "\n",
                            "    .dataframe tbody tr th {\n",
                            "        vertical-align: top;\n",
                            "    }\n",
                            "\n",
                            "    .dataframe thead th {\n",
                            "        text-align: right;\n",
                            "    }\n",
                            "</style>\n",
                            "<table border=\"1\" class=\"dataframe\">\n",
                            "  <thead>\n",
                            "    <tr style=\"text-align: right;\">\n",
                            "      <th></th>\n",
                            "      <th>movie_id</th>\n",
                            "      <th>title</th>\n",
                            "      <th>overview</th>\n",
                            "      <th>genres</th>\n",
                            "      <th>keywords</th>\n",
                            "      <th>cast</th>\n",
                            "      <th>crew</th>\n",
                            "    </tr>\n",
                            "  </thead>\n",
                            "  <tbody>\n",
                            "    <tr>\n",
                            "      <th>0</th>\n",
                            "      <td>19995</td>\n",
                            "      <td>avatar</td>\n",
                            "      <td>in the 22nd century, a paraplegic marine is di...</td>\n",
                            "      <td>[{\"id\": 28, \"name\": \"action\"}, {\"id\": 12, \"nam...</td>\n",
                            "      <td>[{\"id\": 1463, \"name\": \"culture clash\"}, {\"id\":...</td>\n",
                            "      <td>[{\"cast_id\": 242, \"character\": \"jake sully\", \"...</td>\n",
                            "      <td>[{\"credit_id\": \"52fe48009251416c750aca23\", \"de...</td>\n",
                            "    </tr>\n",
                            "    <tr>\n",
                            "      <th>1</th>\n",
                            "      <td>285</td>\n",
                            "      <td>pirates of the caribbean: at world's end</td>\n",
                            "      <td>captain barbossa, long believed to be dead, ha...</td>\n",
                            "      <td>[{\"id\": 12, \"name\": \"adventure\"}, {\"id\": 14, \"...</td>\n",
                            "      <td>[{\"id\": 270, \"name\": \"ocean\"}, {\"id\": 726, \"na...</td>\n",
                            "      <td>[{\"cast_id\": 4, \"character\": \"captain jack spa...</td>\n",
                            "      <td>[{\"credit_id\": \"52fe4232c3a36847f800b579\", \"de...</td>\n",
                            "    </tr>\n",
                            "    <tr>\n",
                            "      <th>2</th>\n",
                            "      <td>206647</td>\n",
                            "      <td>spectre</td>\n",
                            "      <td>a cryptic message from bond’s past sends him o...</td>\n",
                            "      <td>[{\"id\": 28, \"name\": \"action\"}, {\"id\": 12, \"nam...</td>\n",
                            "      <td>[{\"id\": 470, \"name\": \"spy\"}, {\"id\": 818, \"name...</td>\n",
                            "      <td>[{\"cast_id\": 1, \"character\": \"james bond\", \"cr...</td>\n",
                            "      <td>[{\"credit_id\": \"54805967c3a36829b5002c41\", \"de...</td>\n",
                            "    </tr>\n",
                            "    <tr>\n",
                            "      <th>3</th>\n",
                            "      <td>49026</td>\n",
                            "      <td>the dark knight rises</td>\n",
                            "      <td>following the death of district attorney harve...</td>\n",
                            "      <td>[{\"id\": 28, \"name\": \"action\"}, {\"id\": 80, \"nam...</td>\n",
                            "      <td>[{\"id\": 849, \"name\": \"dc comics\"}, {\"id\": 853,...</td>\n",
                            "      <td>[{\"cast_id\": 2, \"character\": \"bruce wayne / ba...</td>\n",
                            "      <td>[{\"credit_id\": \"52fe4781c3a36847f81398c3\", \"de...</td>\n",
                            "    </tr>\n",
                            "    <tr>\n",
                            "      <th>4</th>\n",
                            "      <td>49529</td>\n",
                            "      <td>john carter</td>\n",
                            "      <td>john carter is a war-weary, former military ca...</td>\n",
                            "      <td>[{\"id\": 28, \"name\": \"action\"}, {\"id\": 12, \"nam...</td>\n",
                            "      <td>[{\"id\": 818, \"name\": \"based on novel\"}, {\"id\":...</td>\n",
                            "      <td>[{\"cast_id\": 5, \"character\": \"john carter\", \"c...</td>\n",
                            "      <td>[{\"credit_id\": \"52fe479ac3a36847f813eaa3\", \"de...</td>\n",
                            "    </tr>\n",
                            "  </tbody>\n",
                            "</table>\n",
                            "</div>"
                        ],
                        "text/plain": [
                            "   movie_id                                     title  \\\n",
                            "0     19995                                    avatar   \n",
                            "1       285  pirates of the caribbean: at world's end   \n",
                            "2    206647                                   spectre   \n",
                            "3     49026                     the dark knight rises   \n",
                            "4     49529                               john carter   \n",
                            "\n",
                            "                                            overview  \\\n",
                            "0  in the 22nd century, a paraplegic marine is di...   \n",
                            "1  captain barbossa, long believed to be dead, ha...   \n",
                            "2  a cryptic message from bond’s past sends him o...   \n",
                            "3  following the death of district attorney harve...   \n",
                            "4  john carter is a war-weary, former military ca...   \n",
                            "\n",
                            "                                              genres  \\\n",
                            "0  [{\"id\": 28, \"name\": \"action\"}, {\"id\": 12, \"nam...   \n",
                            "1  [{\"id\": 12, \"name\": \"adventure\"}, {\"id\": 14, \"...   \n",
                            "2  [{\"id\": 28, \"name\": \"action\"}, {\"id\": 12, \"nam...   \n",
                            "3  [{\"id\": 28, \"name\": \"action\"}, {\"id\": 80, \"nam...   \n",
                            "4  [{\"id\": 28, \"name\": \"action\"}, {\"id\": 12, \"nam...   \n",
                            "\n",
                            "                                            keywords  \\\n",
                            "0  [{\"id\": 1463, \"name\": \"culture clash\"}, {\"id\":...   \n",
                            "1  [{\"id\": 270, \"name\": \"ocean\"}, {\"id\": 726, \"na...   \n",
                            "2  [{\"id\": 470, \"name\": \"spy\"}, {\"id\": 818, \"name...   \n",
                            "3  [{\"id\": 849, \"name\": \"dc comics\"}, {\"id\": 853,...   \n",
                            "4  [{\"id\": 818, \"name\": \"based on novel\"}, {\"id\":...   \n",
                            "\n",
                            "                                                cast  \\\n",
                            "0  [{\"cast_id\": 242, \"character\": \"jake sully\", \"...   \n",
                            "1  [{\"cast_id\": 4, \"character\": \"captain jack spa...   \n",
                            "2  [{\"cast_id\": 1, \"character\": \"james bond\", \"cr...   \n",
                            "3  [{\"cast_id\": 2, \"character\": \"bruce wayne / ba...   \n",
                            "4  [{\"cast_id\": 5, \"character\": \"john carter\", \"c...   \n",
                            "\n",
                            "                                                crew  \n",
                            "0  [{\"credit_id\": \"52fe48009251416c750aca23\", \"de...  \n",
                            "1  [{\"credit_id\": \"52fe4232c3a36847f800b579\", \"de...  \n",
                            "2  [{\"credit_id\": \"54805967c3a36829b5002c41\", \"de...  \n",
                            "3  [{\"credit_id\": \"52fe4781c3a36847f81398c3\", \"de...  \n",
                            "4  [{\"credit_id\": \"52fe479ac3a36847f813eaa3\", \"de...  "
                        ]
                    },
                    "execution_count": 738,
                    "metadata": {},
                    "output_type": "execute_result"
                }
            ],
            "source": [
                "cols=['movie_id','title','overview','genres','keywords','cast','crew']\n",
                "data_peliculas=data_f[cols]\n",
                "data_peliculas.head()"
            ]
        },
        {
            "cell_type": "markdown",
            "metadata": {},
            "source": [
                "#### Paso 3. Procesando columnas del dataframe consolidado\n",
                "##### Seleccionando el atributo `name` y reemplazando las columnas `genres` y `keywords`. Para la columna `cast` seleccionando los tres primeros nombres. Seleccionando nombre del director para la columna `crew`. Generando lista con resumen de las peliculas."
            ]
        },
        {
            "cell_type": "code",
            "execution_count": 739,
            "metadata": {},
            "outputs": [
                {
                    "data": {
                        "text/plain": [
                            "'[{\"credit_id\": \"52fe48009251416c750aca23\", \"department\": \"editing\", \"gender\": 0, \"id\": 1721, \"job\": \"editor\", \"name\": \"stephen e. rivkin\"}, {\"credit_id\": \"539c47ecc3a36810e3001f87\", \"department\": \"art\", \"gender\": 2, \"id\": 496, \"job\": \"production design\", \"name\": \"rick carter\"}, {\"credit_id\": \"54491c89c3a3680fb4001cf7\", \"department\": \"sound\", \"gender\": 0, \"id\": 900, \"job\": \"sound designer\", \"name\": \"christopher boyes\"}, {\"credit_id\": \"54491cb70e0a267480001bd0\", \"department\": \"sound\", \"gender\": 0, \"id\": 900, \"job\": \"supervising sound editor\", \"name\": \"christopher boyes\"}, {\"credit_id\": \"539c4a4cc3a36810c9002101\", \"department\": \"production\", \"gender\": 1, \"id\": 1262, \"job\": \"casting\", \"name\": \"mali finn\"}, {\"credit_id\": \"5544ee3b925141499f0008fc\", \"department\": \"sound\", \"gender\": 2, \"id\": 1729, \"job\": \"original music composer\", \"name\": \"james horner\"}, {\"credit_id\": \"52fe48009251416c750ac9c3\", \"department\": \"directing\", \"gender\": 2, \"id\": 2710, \"job\": \"director\", \"name\": \"james cameron\"}, {\"credit_id\": \"52fe48009251416c750ac9d9\", \"department\": \"writing\", \"gender\": 2, \"id\": 2710, \"job\": \"writer\", \"name\": \"james cameron\"}, {\"credit_id\": \"52fe48009251416c750aca17\", \"department\": \"editing\", \"gender\": 2, \"id\": 2710, \"job\": \"editor\", \"name\": \"james cameron\"}, {\"credit_id\": \"52fe48009251416c750aca29\", \"department\": \"production\", \"gender\": 2, \"id\": 2710, \"job\": \"producer\", \"name\": \"james cameron\"}, {\"credit_id\": \"52fe48009251416c750aca3f\", \"department\": \"writing\", \"gender\": 2, \"id\": 2710, \"job\": \"screenplay\", \"name\": \"james cameron\"}, {\"credit_id\": \"539c4987c3a36810ba0021a4\", \"department\": \"art\", \"gender\": 2, \"id\": 7236, \"job\": \"art direction\", \"name\": \"andrew menzies\"}, {\"credit_id\": \"549598c3c3a3686ae9004383\", \"department\": \"visual effects\", \"gender\": 0, \"id\": 6690, \"job\": \"visual effects producer\", \"name\": \"jill brooks\"}, {\"credit_id\": \"52fe48009251416c750aca4b\", \"department\": \"production\", \"gender\": 1, \"id\": 6347, \"job\": \"casting\", \"name\": \"margery simkin\"}, {\"credit_id\": \"570b6f419251417da70032fe\", \"department\": \"art\", \"gender\": 2, \"id\": 6878, \"job\": \"supervising art director\", \"name\": \"kevin ishioka\"}, {\"credit_id\": \"5495a0fac3a3686ae9004468\", \"department\": \"sound\", \"gender\": 0, \"id\": 6883, \"job\": \"music editor\", \"name\": \"dick bernstein\"}, {\"credit_id\": \"54959706c3a3686af3003e81\", \"department\": \"sound\", \"gender\": 0, \"id\": 8159, \"job\": \"sound effects editor\", \"name\": \"shannon mills\"}, {\"credit_id\": \"54491d58c3a3680fb1001ccb\", \"department\": \"sound\", \"gender\": 0, \"id\": 8160, \"job\": \"foley\", \"name\": \"dennie thorpe\"}, {\"credit_id\": \"54491d6cc3a3680fa5001b2c\", \"department\": \"sound\", \"gender\": 0, \"id\": 8163, \"job\": \"foley\", \"name\": \"jana vance\"}, {\"credit_id\": \"52fe48009251416c750aca57\", \"department\": \"costume & make-up\", \"gender\": 1, \"id\": 8527, \"job\": \"costume design\", \"name\": \"deborah lynn scott\"}, {\"credit_id\": \"52fe48009251416c750aca2f\", \"department\": \"production\", \"gender\": 2, \"id\": 8529, \"job\": \"producer\", \"name\": \"jon landau\"}, {\"credit_id\": \"539c4937c3a36810ba002194\", \"department\": \"art\", \"gender\": 0, \"id\": 9618, \"job\": \"art direction\", \"name\": \"sean haworth\"}, {\"credit_id\": \"539c49b6c3a36810c10020e6\", \"department\": \"art\", \"gender\": 1, \"id\": 12653, \"job\": \"set decoration\", \"name\": \"kim sinclair\"}, {\"credit_id\": \"570b6f2f9251413a0e00020d\", \"department\": \"art\", \"gender\": 1, \"id\": 12653, \"job\": \"supervising art director\", \"name\": \"kim sinclair\"}, {\"credit_id\": \"54491a6c0e0a26748c001b19\", \"department\": \"art\", \"gender\": 2, \"id\": 14350, \"job\": \"set designer\", \"name\": \"richard f. mays\"}, {\"credit_id\": \"56928cf4c3a3684cff0025c4\", \"department\": \"production\", \"gender\": 1, \"id\": 20294, \"job\": \"executive producer\", \"name\": \"laeta kalogridis\"}, {\"credit_id\": \"52fe48009251416c750aca51\", \"department\": \"costume & make-up\", \"gender\": 0, \"id\": 17675, \"job\": \"costume design\", \"name\": \"mayes c. rubeo\"}, {\"credit_id\": \"52fe48009251416c750aca11\", \"department\": \"camera\", \"gender\": 2, \"id\": 18265, \"job\": \"director of photography\", \"name\": \"mauro fiore\"}, {\"credit_id\": \"5449194d0e0a26748f001b39\", \"department\": \"art\", \"gender\": 0, \"id\": 42281, \"job\": \"set designer\", \"name\": \"scott herbertson\"}, {\"credit_id\": \"52fe48009251416c750aca05\", \"department\": \"crew\", \"gender\": 0, \"id\": 42288, \"job\": \"stunts\", \"name\": \"woody schultz\"}, {\"credit_id\": \"5592aefb92514152de0010f5\", \"department\": \"costume & make-up\", \"gender\": 0, \"id\": 29067, \"job\": \"makeup artist\", \"name\": \"linda devetta\"}, {\"credit_id\": \"5592afa492514152de00112c\", \"department\": \"costume & make-up\", \"gender\": 0, \"id\": 29067, \"job\": \"hairstylist\", \"name\": \"linda devetta\"}, {\"credit_id\": \"54959ed592514130fc002e5d\", \"department\": \"camera\", \"gender\": 2, \"id\": 33302, \"job\": \"camera operator\", \"name\": \"richard bluck\"}, {\"credit_id\": \"539c4891c3a36810ba002147\", \"department\": \"art\", \"gender\": 2, \"id\": 33303, \"job\": \"art direction\", \"name\": \"simon bright\"}, {\"credit_id\": \"54959c069251417a81001f3a\", \"department\": \"visual effects\", \"gender\": 0, \"id\": 113145, \"job\": \"visual effects supervisor\", \"name\": \"richard martin\"}, {\"credit_id\": \"54959a0dc3a3680ff5002c8d\", \"department\": \"crew\", \"gender\": 2, \"id\": 58188, \"job\": \"visual effects editor\", \"name\": \"steve r. moore\"}, {\"credit_id\": \"52fe48009251416c750aca1d\", \"department\": \"editing\", \"gender\": 2, \"id\": 58871, \"job\": \"editor\", \"name\": \"john refoua\"}, {\"credit_id\": \"54491a4dc3a3680fc30018ca\", \"department\": \"art\", \"gender\": 0, \"id\": 92359, \"job\": \"set designer\", \"name\": \"karl j. martin\"}, {\"credit_id\": \"52fe48009251416c750aca35\", \"department\": \"camera\", \"gender\": 1, \"id\": 72201, \"job\": \"director of photography\", \"name\": \"chiling lin\"}, {\"credit_id\": \"52fe48009251416c750ac9ff\", \"department\": \"crew\", \"gender\": 0, \"id\": 89714, \"job\": \"stunts\", \"name\": \"ilram choi\"}, {\"credit_id\": \"54959c529251416e2b004394\", \"department\": \"visual effects\", \"gender\": 2, \"id\": 93214, \"job\": \"visual effects supervisor\", \"name\": \"steven quale\"}, {\"credit_id\": \"54491edf0e0a267489001c37\", \"department\": \"crew\", \"gender\": 1, \"id\": 122607, \"job\": \"dialect coach\", \"name\": \"carla meyer\"}, {\"credit_id\": \"539c485bc3a368653d001a3a\", \"department\": \"art\", \"gender\": 2, \"id\": 132585, \"job\": \"art direction\", \"name\": \"nick bassett\"}, {\"credit_id\": \"539c4903c3a368653d001a74\", \"department\": \"art\", \"gender\": 0, \"id\": 132596, \"job\": \"art direction\", \"name\": \"jill cormack\"}, {\"credit_id\": \"539c4967c3a368653d001a94\", \"department\": \"art\", \"gender\": 0, \"id\": 132604, \"job\": \"art direction\", \"name\": \"andy mclaren\"}, {\"credit_id\": \"52fe48009251416c750aca45\", \"department\": \"crew\", \"gender\": 0, \"id\": 236696, \"job\": \"motion capture artist\", \"name\": \"terry notary\"}, {\"credit_id\": \"54959e02c3a3680fc60027d2\", \"department\": \"crew\", \"gender\": 2, \"id\": 956198, \"job\": \"stunt coordinator\", \"name\": \"garrett warren\"}, {\"credit_id\": \"54959ca3c3a3686ae300438c\", \"department\": \"visual effects\", \"gender\": 2, \"id\": 957874, \"job\": \"visual effects supervisor\", \"name\": \"jonathan rothbart\"}, {\"credit_id\": \"570b6f519251412c74001b2f\", \"department\": \"art\", \"gender\": 0, \"id\": 957889, \"job\": \"supervising art director\", \"name\": \"stefan dechant\"}, {\"credit_id\": \"570b6f62c3a3680b77007460\", \"department\": \"art\", \"gender\": 2, \"id\": 959555, \"job\": \"supervising art director\", \"name\": \"todd cherniawsky\"}, {\"credit_id\": \"539c4a3ac3a36810da0021cc\", \"department\": \"production\", \"gender\": 0, \"id\": 1016177, \"job\": \"casting\", \"name\": \"miranda rivers\"}, {\"credit_id\": \"539c482cc3a36810c1002062\", \"department\": \"art\", \"gender\": 0, \"id\": 1032536, \"job\": \"production design\", \"name\": \"robert stromberg\"}, {\"credit_id\": \"539c4b65c3a36810c9002125\", \"department\": \"costume & make-up\", \"gender\": 2, \"id\": 1071680, \"job\": \"costume design\", \"name\": \"john harding\"}, {\"credit_id\": \"54959e6692514130fc002e4e\", \"department\": \"camera\", \"gender\": 0, \"id\": 1177364, \"job\": \"steadicam operator\", \"name\": \"roberto de angelis\"}, {\"credit_id\": \"539c49f1c3a368653d001aac\", \"department\": \"costume & make-up\", \"gender\": 2, \"id\": 1202850, \"job\": \"makeup department head\", \"name\": \"mike smithson\"}, {\"credit_id\": \"5495999ec3a3686ae100460c\", \"department\": \"visual effects\", \"gender\": 0, \"id\": 1204668, \"job\": \"visual effects producer\", \"name\": \"alain lalanne\"}, {\"credit_id\": \"54959cdfc3a3681153002729\", \"department\": \"visual effects\", \"gender\": 0, \"id\": 1206410, \"job\": \"visual effects supervisor\", \"name\": \"lucas salton\"}, {\"credit_id\": \"549596239251417a81001eae\", \"department\": \"crew\", \"gender\": 0, \"id\": 1234266, \"job\": \"post production supervisor\", \"name\": \"janace tashjian\"}, {\"credit_id\": \"54959c859251416e1e003efe\", \"department\": \"visual effects\", \"gender\": 0, \"id\": 1271932, \"job\": \"visual effects supervisor\", \"name\": \"stephen rosenbaum\"}, {\"credit_id\": \"5592af28c3a368775a00105f\", \"department\": \"costume & make-up\", \"gender\": 0, \"id\": 1310064, \"job\": \"makeup artist\", \"name\": \"frankie karena\"}, {\"credit_id\": \"539c4adfc3a36810e300203b\", \"department\": \"costume & make-up\", \"gender\": 1, \"id\": 1319844, \"job\": \"costume supervisor\", \"name\": \"lisa lovaas\"}, {\"credit_id\": \"54959b579251416e2b004371\", \"department\": \"visual effects\", \"gender\": 0, \"id\": 1327028, \"job\": \"visual effects supervisor\", \"name\": \"jonathan fawkner\"}, {\"credit_id\": \"539c48a7c3a36810b5001fa7\", \"department\": \"art\", \"gender\": 0, \"id\": 1330561, \"job\": \"art direction\", \"name\": \"robert bavin\"}, {\"credit_id\": \"539c4a71c3a36810da0021e0\", \"department\": \"costume & make-up\", \"gender\": 0, \"id\": 1330567, \"job\": \"costume supervisor\", \"name\": \"anthony almaraz\"}, {\"credit_id\": \"539c4a8ac3a36810ba0021e4\", \"department\": \"costume & make-up\", \"gender\": 0, \"id\": 1330570, \"job\": \"costume supervisor\", \"name\": \"carolyn m. fenton\"}, {\"credit_id\": \"539c4ab6c3a36810da0021f0\", \"department\": \"costume & make-up\", \"gender\": 0, \"id\": 1330574, \"job\": \"costume supervisor\", \"name\": \"beth koenigsberg\"}, {\"credit_id\": \"54491ab70e0a267480001ba2\", \"department\": \"art\", \"gender\": 0, \"id\": 1336191, \"job\": \"set designer\", \"name\": \"sam page\"}, {\"credit_id\": \"544919d9c3a3680fc30018bd\", \"department\": \"art\", \"gender\": 0, \"id\": 1339441, \"job\": \"set designer\", \"name\": \"tex kadonaga\"}, {\"credit_id\": \"54491cf50e0a267483001b0c\", \"department\": \"editing\", \"gender\": 0, \"id\": 1352422, \"job\": \"dialogue editor\", \"name\": \"kim foscato\"}, {\"credit_id\": \"544919f40e0a26748c001b09\", \"department\": \"art\", \"gender\": 0, \"id\": 1352962, \"job\": \"set designer\", \"name\": \"tammy s. lee\"}, {\"credit_id\": \"5495a115c3a3680ff5002d71\", \"department\": \"crew\", \"gender\": 0, \"id\": 1357070, \"job\": \"transportation coordinator\", \"name\": \"denny caira\"}, {\"credit_id\": \"5495a12f92514130fc002e94\", \"department\": \"crew\", \"gender\": 0, \"id\": 1357071, \"job\": \"transportation coordinator\", \"name\": \"james waitkus\"}, {\"credit_id\": \"5495976fc3a36811530026b0\", \"department\": \"sound\", \"gender\": 0, \"id\": 1360103, \"job\": \"supervising sound editor\", \"name\": \"addison teague\"}, {\"credit_id\": \"54491837c3a3680fb1001c5a\", \"department\": \"art\", \"gender\": 2, \"id\": 1376887, \"job\": \"set designer\", \"name\": \"c. scott baker\"}, {\"credit_id\": \"54491878c3a3680fb4001c9d\", \"department\": \"art\", \"gender\": 0, \"id\": 1376888, \"job\": \"set designer\", \"name\": \"luke caska\"}, {\"credit_id\": \"544918dac3a3680fa5001ae0\", \"department\": \"art\", \"gender\": 0, \"id\": 1376889, \"job\": \"set designer\", \"name\": \"david chow\"}, {\"credit_id\": \"544919110e0a267486001b68\", \"department\": \"art\", \"gender\": 0, \"id\": 1376890, \"job\": \"set designer\", \"name\": \"jonathan dyer\"}, {\"credit_id\": \"54491967c3a3680faa001b5e\", \"department\": \"art\", \"gender\": 0, \"id\": 1376891, \"job\": \"set designer\", \"name\": \"joseph hiura\"}, {\"credit_id\": \"54491997c3a3680fb1001c8a\", \"department\": \"art\", \"gender\": 0, \"id\": 1376892, \"job\": \"art department coordinator\", \"name\": \"rebecca jellie\"}, {\"credit_id\": \"544919ba0e0a26748f001b42\", \"department\": \"art\", \"gender\": 0, \"id\": 1376893, \"job\": \"set designer\", \"name\": \"robert andrew johnson\"}, {\"credit_id\": \"54491b1dc3a3680faa001b8c\", \"department\": \"art\", \"gender\": 0, \"id\": 1376895, \"job\": \"assistant art director\", \"name\": \"mike stassi\"}, {\"credit_id\": \"54491b79c3a3680fbb001826\", \"department\": \"art\", \"gender\": 0, \"id\": 1376897, \"job\": \"construction coordinator\", \"name\": \"john villarino\"}, {\"credit_id\": \"54491baec3a3680fb4001ce6\", \"department\": \"art\", \"gender\": 2, \"id\": 1376898, \"job\": \"assistant art director\", \"name\": \"jeffrey wisniewski\"}, {\"credit_id\": \"54491d2fc3a3680fb4001d07\", \"department\": \"editing\", \"gender\": 0, \"id\": 1376899, \"job\": \"dialogue editor\", \"name\": \"cheryl nardi\"}, {\"credit_id\": \"54491d86c3a3680fa5001b2f\", \"department\": \"editing\", \"gender\": 0, \"id\": 1376901, \"job\": \"dialogue editor\", \"name\": \"marshall winn\"}, {\"credit_id\": \"54491d9dc3a3680faa001bb0\", \"department\": \"sound\", \"gender\": 0, \"id\": 1376902, \"job\": \"supervising sound editor\", \"name\": \"gwendolyn yates whittle\"}, {\"credit_id\": \"54491dc10e0a267486001bce\", \"department\": \"sound\", \"gender\": 0, \"id\": 1376903, \"job\": \"sound re-recording mixer\", \"name\": \"william stein\"}, {\"credit_id\": \"54491f500e0a26747c001c07\", \"department\": \"crew\", \"gender\": 0, \"id\": 1376909, \"job\": \"choreographer\", \"name\": \"lula washington\"}, {\"credit_id\": \"549599239251412c4e002a2e\", \"department\": \"visual effects\", \"gender\": 0, \"id\": 1391692, \"job\": \"visual effects producer\", \"name\": \"chris del conte\"}, {\"credit_id\": \"54959d54c3a36831b8001d9a\", \"department\": \"visual effects\", \"gender\": 2, \"id\": 1391695, \"job\": \"visual effects supervisor\", \"name\": \"r. christopher white\"}, {\"credit_id\": \"54959bdf9251412c4e002a66\", \"department\": \"visual effects\", \"gender\": 0, \"id\": 1394070, \"job\": \"visual effects supervisor\", \"name\": \"dan lemmon\"}, {\"credit_id\": \"5495971d92514132ed002922\", \"department\": \"sound\", \"gender\": 0, \"id\": 1394129, \"job\": \"sound effects editor\", \"name\": \"tim nielsen\"}, {\"credit_id\": \"5592b25792514152cc0011aa\", \"department\": \"crew\", \"gender\": 0, \"id\": 1394286, \"job\": \"cg supervisor\", \"name\": \"michael mulholland\"}, {\"credit_id\": \"54959a329251416e2b004355\", \"department\": \"crew\", \"gender\": 0, \"id\": 1394750, \"job\": \"visual effects editor\", \"name\": \"thomas nittmann\"}, {\"credit_id\": \"54959d6dc3a3686ae9004401\", \"department\": \"visual effects\", \"gender\": 0, \"id\": 1394755, \"job\": \"visual effects supervisor\", \"name\": \"edson williams\"}, {\"credit_id\": \"5495a08fc3a3686ae300441c\", \"department\": \"editing\", \"gender\": 0, \"id\": 1394953, \"job\": \"digital intermediate\", \"name\": \"christine carr\"}, {\"credit_id\": \"55402d659251413d6d000249\", \"department\": \"visual effects\", \"gender\": 0, \"id\": 1395269, \"job\": \"visual effects supervisor\", \"name\": \"john bruno\"}, {\"credit_id\": \"54959e7b9251416e1e003f3e\", \"department\": \"camera\", \"gender\": 0, \"id\": 1398970, \"job\": \"steadicam operator\", \"name\": \"david emmerichs\"}, {\"credit_id\": \"54959734c3a3686ae10045e0\", \"department\": \"sound\", \"gender\": 0, \"id\": 1400906, \"job\": \"sound effects editor\", \"name\": \"christopher scarabosio\"}, {\"credit_id\": \"549595dd92514130fc002d79\", \"department\": \"production\", \"gender\": 0, \"id\": 1401784, \"job\": \"production supervisor\", \"name\": \"jennifer teves\"}, {\"credit_id\": \"549596009251413af70028cc\", \"department\": \"production\", \"gender\": 0, \"id\": 1401785, \"job\": \"production manager\", \"name\": \"brigitte yorke\"}, {\"credit_id\": \"549596e892514130fc002d99\", \"department\": \"sound\", \"gender\": 0, \"id\": 1401786, \"job\": \"sound effects editor\", \"name\": \"ken fischer\"}, {\"credit_id\": \"549598229251412c4e002a1c\", \"department\": \"crew\", \"gender\": 0, \"id\": 1401787, \"job\": \"special effects coordinator\", \"name\": \"iain hutton\"}, {\"credit_id\": \"549598349251416e2b00432b\", \"department\": \"crew\", \"gender\": 0, \"id\": 1401788, \"job\": \"special effects coordinator\", \"name\": \"steve ingram\"}, {\"credit_id\": \"54959905c3a3686ae3004324\", \"department\": \"visual effects\", \"gender\": 0, \"id\": 1401789, \"job\": \"visual effects producer\", \"name\": \"joyce cox\"}, {\"credit_id\": \"5495994b92514132ed002951\", \"department\": \"visual effects\", \"gender\": 0, \"id\": 1401790, \"job\": \"visual effects producer\", \"name\": \"jenny foster\"}, {\"credit_id\": \"549599cbc3a3686ae1004613\", \"department\": \"crew\", \"gender\": 0, \"id\": 1401791, \"job\": \"visual effects editor\", \"name\": \"christopher marino\"}, {\"credit_id\": \"549599f2c3a3686ae100461e\", \"department\": \"crew\", \"gender\": 0, \"id\": 1401792, \"job\": \"visual effects editor\", \"name\": \"jim milton\"}, {\"credit_id\": \"54959a51c3a3686af3003eb5\", \"department\": \"visual effects\", \"gender\": 0, \"id\": 1401793, \"job\": \"visual effects producer\", \"name\": \"cyndi ochs\"}, {\"credit_id\": \"54959a7cc3a36811530026f4\", \"department\": \"crew\", \"gender\": 0, \"id\": 1401794, \"job\": \"visual effects editor\", \"name\": \"lucas putnam\"}, {\"credit_id\": \"54959b91c3a3680ff5002cb4\", \"department\": \"visual effects\", \"gender\": 0, \"id\": 1401795, \"job\": \"visual effects supervisor\", \"name\": \"anthony \\'max\\' ivins\"}, {\"credit_id\": \"54959bb69251412c4e002a5f\", \"department\": \"visual effects\", \"gender\": 0, \"id\": 1401796, \"job\": \"visual effects supervisor\", \"name\": \"john knoll\"}, {\"credit_id\": \"54959cbbc3a3686ae3004391\", \"department\": \"visual effects\", \"gender\": 2, \"id\": 1401799, \"job\": \"visual effects supervisor\", \"name\": \"eric saindon\"}, {\"credit_id\": \"54959d06c3a3686ae90043f6\", \"department\": \"visual effects\", \"gender\": 0, \"id\": 1401800, \"job\": \"visual effects supervisor\", \"name\": \"wayne stables\"}, {\"credit_id\": \"54959d259251416e1e003f11\", \"department\": \"visual effects\", \"gender\": 0, \"id\": 1401801, \"job\": \"visual effects supervisor\", \"name\": \"david stinnett\"}, {\"credit_id\": \"54959db49251413af7002975\", \"department\": \"visual effects\", \"gender\": 0, \"id\": 1401803, \"job\": \"visual effects supervisor\", \"name\": \"guy williams\"}, {\"credit_id\": \"54959de4c3a3681153002750\", \"department\": \"crew\", \"gender\": 0, \"id\": 1401804, \"job\": \"stunt coordinator\", \"name\": \"stuart thorp\"}, {\"credit_id\": \"54959ef2c3a3680fc60027f2\", \"department\": \"lighting\", \"gender\": 0, \"id\": 1401805, \"job\": \"best boy electric\", \"name\": \"giles coburn\"}, {\"credit_id\": \"54959f07c3a3680fc60027f9\", \"department\": \"camera\", \"gender\": 2, \"id\": 1401806, \"job\": \"still photographer\", \"name\": \"mark fellman\"}, {\"credit_id\": \"54959f47c3a3681153002774\", \"department\": \"lighting\", \"gender\": 0, \"id\": 1401807, \"job\": \"lighting technician\", \"name\": \"scott sprague\"}, {\"credit_id\": \"54959f8cc3a36831b8001df2\", \"department\": \"visual effects\", \"gender\": 0, \"id\": 1401808, \"job\": \"animation director\", \"name\": \"jeremy hollobon\"}, {\"credit_id\": \"54959fa0c3a36831b8001dfb\", \"department\": \"visual effects\", \"gender\": 0, \"id\": 1401809, \"job\": \"animation director\", \"name\": \"orlando meunier\"}, {\"credit_id\": \"54959fb6c3a3686af3003f54\", \"department\": \"visual effects\", \"gender\": 0, \"id\": 1401810, \"job\": \"animation director\", \"name\": \"taisuke tanimura\"}, {\"credit_id\": \"54959fd2c3a36831b8001e02\", \"department\": \"costume & make-up\", \"gender\": 0, \"id\": 1401812, \"job\": \"set costumer\", \"name\": \"lilia mishel acevedo\"}, {\"credit_id\": \"54959ff9c3a3686ae300440c\", \"department\": \"costume & make-up\", \"gender\": 0, \"id\": 1401814, \"job\": \"set costumer\", \"name\": \"alejandro m. hernandez\"}, {\"credit_id\": \"5495a0ddc3a3686ae10046fe\", \"department\": \"editing\", \"gender\": 0, \"id\": 1401815, \"job\": \"digital intermediate\", \"name\": \"marvin hall\"}, {\"credit_id\": \"5495a1f7c3a3686ae3004443\", \"department\": \"production\", \"gender\": 0, \"id\": 1401816, \"job\": \"publicist\", \"name\": \"judy alley\"}, {\"credit_id\": \"5592b29fc3a36869d100002f\", \"department\": \"crew\", \"gender\": 0, \"id\": 1418381, \"job\": \"cg supervisor\", \"name\": \"mike perry\"}, {\"credit_id\": \"5592b23a9251415df8001081\", \"department\": \"crew\", \"gender\": 0, \"id\": 1426854, \"job\": \"cg supervisor\", \"name\": \"andrew morley\"}, {\"credit_id\": \"55491e1192514104c40002d8\", \"department\": \"art\", \"gender\": 0, \"id\": 1438901, \"job\": \"conceptual design\", \"name\": \"seth engstrom\"}, {\"credit_id\": \"5525d5809251417276002b06\", \"department\": \"crew\", \"gender\": 0, \"id\": 1447362, \"job\": \"visual effects art director\", \"name\": \"eric oliver\"}, {\"credit_id\": \"554427ca925141586500312a\", \"department\": \"visual effects\", \"gender\": 0, \"id\": 1447503, \"job\": \"modeling\", \"name\": \"matsune suzuki\"}, {\"credit_id\": \"551906889251415aab001c88\", \"department\": \"art\", \"gender\": 0, \"id\": 1447524, \"job\": \"art department manager\", \"name\": \"paul tobin\"}, {\"credit_id\": \"5592af8492514152cc0010de\", \"department\": \"costume & make-up\", \"gender\": 0, \"id\": 1452643, \"job\": \"hairstylist\", \"name\": \"roxane griffin\"}, {\"credit_id\": \"553d3c109251415852001318\", \"department\": \"lighting\", \"gender\": 0, \"id\": 1453938, \"job\": \"lighting artist\", \"name\": \"arun ram-mohan\"}, {\"credit_id\": \"5592af4692514152d5001355\", \"department\": \"costume & make-up\", \"gender\": 0, \"id\": 1457305, \"job\": \"makeup artist\", \"name\": \"georgia lockhart-adams\"}, {\"credit_id\": \"5592b2eac3a36877470012a5\", \"department\": \"crew\", \"gender\": 0, \"id\": 1466035, \"job\": \"cg supervisor\", \"name\": \"thrain shadbolt\"}, {\"credit_id\": \"5592b032c3a36877450015f1\", \"department\": \"crew\", \"gender\": 0, \"id\": 1483220, \"job\": \"cg supervisor\", \"name\": \"brad alexander\"}, {\"credit_id\": \"5592b05592514152d80012f6\", \"department\": \"crew\", \"gender\": 0, \"id\": 1483221, \"job\": \"cg supervisor\", \"name\": \"shadi almassizadeh\"}, {\"credit_id\": \"5592b090c3a36877570010b5\", \"department\": \"crew\", \"gender\": 0, \"id\": 1483222, \"job\": \"cg supervisor\", \"name\": \"simon clutterbuck\"}, {\"credit_id\": \"5592b0dbc3a368774b00112c\", \"department\": \"crew\", \"gender\": 0, \"id\": 1483223, \"job\": \"cg supervisor\", \"name\": \"graeme demmocks\"}, {\"credit_id\": \"5592b0fe92514152db0010c1\", \"department\": \"crew\", \"gender\": 0, \"id\": 1483224, \"job\": \"cg supervisor\", \"name\": \"adrian fernandes\"}, {\"credit_id\": \"5592b11f9251415df8001059\", \"department\": \"crew\", \"gender\": 0, \"id\": 1483225, \"job\": \"cg supervisor\", \"name\": \"mitch gates\"}, {\"credit_id\": \"5592b15dc3a3687745001645\", \"department\": \"crew\", \"gender\": 0, \"id\": 1483226, \"job\": \"cg supervisor\", \"name\": \"jerry kung\"}, {\"credit_id\": \"5592b18e925141645a0004ae\", \"department\": \"crew\", \"gender\": 0, \"id\": 1483227, \"job\": \"cg supervisor\", \"name\": \"andy lomas\"}, {\"credit_id\": \"5592b1bfc3a368775d0010e7\", \"department\": \"crew\", \"gender\": 0, \"id\": 1483228, \"job\": \"cg supervisor\", \"name\": \"sebastian marino\"}, {\"credit_id\": \"5592b2049251415df8001078\", \"department\": \"crew\", \"gender\": 0, \"id\": 1483229, \"job\": \"cg supervisor\", \"name\": \"matthias menz\"}, {\"credit_id\": \"5592b27b92514152d800136a\", \"department\": \"crew\", \"gender\": 0, \"id\": 1483230, \"job\": \"cg supervisor\", \"name\": \"sergei nevshupov\"}, {\"credit_id\": \"5592b2c3c3a36869e800003c\", \"department\": \"crew\", \"gender\": 0, \"id\": 1483231, \"job\": \"cg supervisor\", \"name\": \"philippe rebours\"}, {\"credit_id\": \"5592b317c3a36877470012af\", \"department\": \"crew\", \"gender\": 0, \"id\": 1483232, \"job\": \"cg supervisor\", \"name\": \"michael takarangi\"}, {\"credit_id\": \"5592b345c3a36877470012bb\", \"department\": \"crew\", \"gender\": 0, \"id\": 1483233, \"job\": \"cg supervisor\", \"name\": \"david weitzberg\"}, {\"credit_id\": \"5592b37cc3a368775100113b\", \"department\": \"crew\", \"gender\": 0, \"id\": 1483234, \"job\": \"cg supervisor\", \"name\": \"ben white\"}, {\"credit_id\": \"573c8e2f9251413f5d000094\", \"department\": \"crew\", \"gender\": 1, \"id\": 1621932, \"job\": \"stunts\", \"name\": \"min windle\"}]'"
                        ]
                    },
                    "execution_count": 739,
                    "metadata": {},
                    "output_type": "execute_result"
                }
            ],
            "source": [
                "data_peliculas['crew'][0]"
            ]
        },
        {
            "cell_type": "code",
            "execution_count": 740,
            "metadata": {},
            "outputs": [],
            "source": [
                "def process_genres(genres):\n",
                "    datos = json.loads(genres)\n",
                "    names = [dato[\"name\"] for dato in datos]\n",
                "    return names\n",
                "\n",
                "data_peliculas['genres_m'] = data_peliculas['genres'].apply(process_genres)\n",
                "data_peliculas.drop('genres', inplace=True, axis=1)\n",
                "data_peliculas.rename(columns={'genres_m': 'genres'}, inplace=True)\n",
                "\n",
                "data_peliculas['keyw_m'] = data_peliculas['keywords'].apply(process_genres)\n",
                "data_peliculas.drop('keywords', inplace=True, axis=1)\n",
                "data_peliculas.rename(columns={'keyw_m': 'keywords'}, inplace=True)\n",
                "\n",
                "def process_genres3(cast):\n",
                "    datos = json.loads(cast)\n",
                "    names = [dato[\"name\"] for dato in datos]\n",
                "    return names[:3] \n",
                "data_peliculas['cast_3n'] = data_peliculas['cast'].apply(process_genres3)\n",
                "data_peliculas.drop('cast', inplace=True, axis=1)\n",
                "data_peliculas.rename(columns={'cast_3n': 'cast'}, inplace=True)\n",
                "\n",
                "def process_director(crew):\n",
                "    datos = json.loads(crew)\n",
                "    director_name = [dato[\"name\"] for dato in datos if dato[\"job\"]==\"director\"]\n",
                "    return director_name\n",
                "data_peliculas['crew_d'] = data_peliculas['crew'].apply(process_director)\n",
                "data_peliculas.drop('crew', inplace=True, axis=1)\n",
                "data_peliculas.rename(columns={'crew_d': 'crew'}, inplace=True)\n",
                "\n",
                "resumen=data_peliculas.overview.to_list()"
            ]
        },
        {
            "cell_type": "code",
            "execution_count": 741,
            "metadata": {},
            "outputs": [
                {
                    "data": {
                        "text/html": [
                            "<div>\n",
                            "<style scoped>\n",
                            "    .dataframe tbody tr th:only-of-type {\n",
                            "        vertical-align: middle;\n",
                            "    }\n",
                            "\n",
                            "    .dataframe tbody tr th {\n",
                            "        vertical-align: top;\n",
                            "    }\n",
                            "\n",
                            "    .dataframe thead th {\n",
                            "        text-align: right;\n",
                            "    }\n",
                            "</style>\n",
                            "<table border=\"1\" class=\"dataframe\">\n",
                            "  <thead>\n",
                            "    <tr style=\"text-align: right;\">\n",
                            "      <th></th>\n",
                            "      <th>movie_id</th>\n",
                            "      <th>title</th>\n",
                            "      <th>overview</th>\n",
                            "      <th>genres</th>\n",
                            "      <th>keywords</th>\n",
                            "      <th>cast</th>\n",
                            "      <th>crew</th>\n",
                            "    </tr>\n",
                            "  </thead>\n",
                            "  <tbody>\n",
                            "    <tr>\n",
                            "      <th>0</th>\n",
                            "      <td>19995</td>\n",
                            "      <td>avatar</td>\n",
                            "      <td>in the 22nd century, a paraplegic marine is di...</td>\n",
                            "      <td>[action, adventure, fantasy, science fiction]</td>\n",
                            "      <td>[culture clash, future, space war, space colon...</td>\n",
                            "      <td>[sam worthington, zoe saldana, sigourney weaver]</td>\n",
                            "      <td>[james cameron]</td>\n",
                            "    </tr>\n",
                            "    <tr>\n",
                            "      <th>1</th>\n",
                            "      <td>285</td>\n",
                            "      <td>pirates of the caribbean: at world's end</td>\n",
                            "      <td>captain barbossa, long believed to be dead, ha...</td>\n",
                            "      <td>[adventure, fantasy, action]</td>\n",
                            "      <td>[ocean, drug abuse, exotic island, east india ...</td>\n",
                            "      <td>[johnny depp, orlando bloom, keira knightley]</td>\n",
                            "      <td>[gore verbinski]</td>\n",
                            "    </tr>\n",
                            "    <tr>\n",
                            "      <th>2</th>\n",
                            "      <td>206647</td>\n",
                            "      <td>spectre</td>\n",
                            "      <td>a cryptic message from bond’s past sends him o...</td>\n",
                            "      <td>[action, adventure, crime]</td>\n",
                            "      <td>[spy, based on novel, secret agent, sequel, mi...</td>\n",
                            "      <td>[daniel craig, christoph waltz, léa seydoux]</td>\n",
                            "      <td>[sam mendes]</td>\n",
                            "    </tr>\n",
                            "    <tr>\n",
                            "      <th>3</th>\n",
                            "      <td>49026</td>\n",
                            "      <td>the dark knight rises</td>\n",
                            "      <td>following the death of district attorney harve...</td>\n",
                            "      <td>[action, crime, drama, thriller]</td>\n",
                            "      <td>[dc comics, crime fighter, terrorist, secret i...</td>\n",
                            "      <td>[christian bale, michael caine, gary oldman]</td>\n",
                            "      <td>[christopher nolan]</td>\n",
                            "    </tr>\n",
                            "    <tr>\n",
                            "      <th>4</th>\n",
                            "      <td>49529</td>\n",
                            "      <td>john carter</td>\n",
                            "      <td>john carter is a war-weary, former military ca...</td>\n",
                            "      <td>[action, adventure, science fiction]</td>\n",
                            "      <td>[based on novel, mars, medallion, space travel...</td>\n",
                            "      <td>[taylor kitsch, lynn collins, samantha morton]</td>\n",
                            "      <td>[andrew stanton]</td>\n",
                            "    </tr>\n",
                            "  </tbody>\n",
                            "</table>\n",
                            "</div>"
                        ],
                        "text/plain": [
                            "   movie_id                                     title  \\\n",
                            "0     19995                                    avatar   \n",
                            "1       285  pirates of the caribbean: at world's end   \n",
                            "2    206647                                   spectre   \n",
                            "3     49026                     the dark knight rises   \n",
                            "4     49529                               john carter   \n",
                            "\n",
                            "                                            overview  \\\n",
                            "0  in the 22nd century, a paraplegic marine is di...   \n",
                            "1  captain barbossa, long believed to be dead, ha...   \n",
                            "2  a cryptic message from bond’s past sends him o...   \n",
                            "3  following the death of district attorney harve...   \n",
                            "4  john carter is a war-weary, former military ca...   \n",
                            "\n",
                            "                                          genres  \\\n",
                            "0  [action, adventure, fantasy, science fiction]   \n",
                            "1                   [adventure, fantasy, action]   \n",
                            "2                     [action, adventure, crime]   \n",
                            "3               [action, crime, drama, thriller]   \n",
                            "4           [action, adventure, science fiction]   \n",
                            "\n",
                            "                                            keywords  \\\n",
                            "0  [culture clash, future, space war, space colon...   \n",
                            "1  [ocean, drug abuse, exotic island, east india ...   \n",
                            "2  [spy, based on novel, secret agent, sequel, mi...   \n",
                            "3  [dc comics, crime fighter, terrorist, secret i...   \n",
                            "4  [based on novel, mars, medallion, space travel...   \n",
                            "\n",
                            "                                               cast                 crew  \n",
                            "0  [sam worthington, zoe saldana, sigourney weaver]      [james cameron]  \n",
                            "1     [johnny depp, orlando bloom, keira knightley]     [gore verbinski]  \n",
                            "2      [daniel craig, christoph waltz, léa seydoux]         [sam mendes]  \n",
                            "3      [christian bale, michael caine, gary oldman]  [christopher nolan]  \n",
                            "4    [taylor kitsch, lynn collins, samantha morton]     [andrew stanton]  "
                        ]
                    },
                    "execution_count": 741,
                    "metadata": {},
                    "output_type": "execute_result"
                }
            ],
            "source": [
                "data_peliculas.head()"
            ]
        },
        {
            "cell_type": "markdown",
            "metadata": {},
            "source": [
                "##### Eliminando los espacios en blanco en los elementos de las listas en las columnas `genres`, `cast`, `crew` y `keywords`"
            ]
        },
        {
            "cell_type": "code",
            "execution_count": 742,
            "metadata": {},
            "outputs": [],
            "source": [
                "def eliminar_espacios(valor):\n",
                "    return [str(elemento_lista).replace(\" \", \"\") for elemento_lista in valor]\n",
                "\n",
                "columnas_a_modificar = ['genres', 'cast', 'crew', 'keywords']\n",
                "\n",
                "data_peliculas[columnas_a_modificar] = data_peliculas[columnas_a_modificar].applymap(eliminar_espacios)\n"
            ]
        },
        {
            "cell_type": "code",
            "execution_count": 743,
            "metadata": {},
            "outputs": [
                {
                    "data": {
                        "text/html": [
                            "<div>\n",
                            "<style scoped>\n",
                            "    .dataframe tbody tr th:only-of-type {\n",
                            "        vertical-align: middle;\n",
                            "    }\n",
                            "\n",
                            "    .dataframe tbody tr th {\n",
                            "        vertical-align: top;\n",
                            "    }\n",
                            "\n",
                            "    .dataframe thead th {\n",
                            "        text-align: right;\n",
                            "    }\n",
                            "</style>\n",
                            "<table border=\"1\" class=\"dataframe\">\n",
                            "  <thead>\n",
                            "    <tr style=\"text-align: right;\">\n",
                            "      <th></th>\n",
                            "      <th>movie_id</th>\n",
                            "      <th>title</th>\n",
                            "      <th>overview</th>\n",
                            "      <th>genres</th>\n",
                            "      <th>keywords</th>\n",
                            "      <th>cast</th>\n",
                            "      <th>crew</th>\n",
                            "    </tr>\n",
                            "  </thead>\n",
                            "  <tbody>\n",
                            "    <tr>\n",
                            "      <th>0</th>\n",
                            "      <td>19995</td>\n",
                            "      <td>avatar</td>\n",
                            "      <td>in the 22nd century, a paraplegic marine is di...</td>\n",
                            "      <td>[action, adventure, fantasy, sciencefiction]</td>\n",
                            "      <td>[cultureclash, future, spacewar, spacecolony, ...</td>\n",
                            "      <td>[samworthington, zoesaldana, sigourneyweaver]</td>\n",
                            "      <td>[jamescameron]</td>\n",
                            "    </tr>\n",
                            "    <tr>\n",
                            "      <th>1</th>\n",
                            "      <td>285</td>\n",
                            "      <td>pirates of the caribbean: at world's end</td>\n",
                            "      <td>captain barbossa, long believed to be dead, ha...</td>\n",
                            "      <td>[adventure, fantasy, action]</td>\n",
                            "      <td>[ocean, drugabuse, exoticisland, eastindiatrad...</td>\n",
                            "      <td>[johnnydepp, orlandobloom, keiraknightley]</td>\n",
                            "      <td>[goreverbinski]</td>\n",
                            "    </tr>\n",
                            "    <tr>\n",
                            "      <th>2</th>\n",
                            "      <td>206647</td>\n",
                            "      <td>spectre</td>\n",
                            "      <td>a cryptic message from bond’s past sends him o...</td>\n",
                            "      <td>[action, adventure, crime]</td>\n",
                            "      <td>[spy, basedonnovel, secretagent, sequel, mi6, ...</td>\n",
                            "      <td>[danielcraig, christophwaltz, léaseydoux]</td>\n",
                            "      <td>[sammendes]</td>\n",
                            "    </tr>\n",
                            "    <tr>\n",
                            "      <th>3</th>\n",
                            "      <td>49026</td>\n",
                            "      <td>the dark knight rises</td>\n",
                            "      <td>following the death of district attorney harve...</td>\n",
                            "      <td>[action, crime, drama, thriller]</td>\n",
                            "      <td>[dccomics, crimefighter, terrorist, secretiden...</td>\n",
                            "      <td>[christianbale, michaelcaine, garyoldman]</td>\n",
                            "      <td>[christophernolan]</td>\n",
                            "    </tr>\n",
                            "    <tr>\n",
                            "      <th>4</th>\n",
                            "      <td>49529</td>\n",
                            "      <td>john carter</td>\n",
                            "      <td>john carter is a war-weary, former military ca...</td>\n",
                            "      <td>[action, adventure, sciencefiction]</td>\n",
                            "      <td>[basedonnovel, mars, medallion, spacetravel, p...</td>\n",
                            "      <td>[taylorkitsch, lynncollins, samanthamorton]</td>\n",
                            "      <td>[andrewstanton]</td>\n",
                            "    </tr>\n",
                            "  </tbody>\n",
                            "</table>\n",
                            "</div>"
                        ],
                        "text/plain": [
                            "   movie_id                                     title  \\\n",
                            "0     19995                                    avatar   \n",
                            "1       285  pirates of the caribbean: at world's end   \n",
                            "2    206647                                   spectre   \n",
                            "3     49026                     the dark knight rises   \n",
                            "4     49529                               john carter   \n",
                            "\n",
                            "                                            overview  \\\n",
                            "0  in the 22nd century, a paraplegic marine is di...   \n",
                            "1  captain barbossa, long believed to be dead, ha...   \n",
                            "2  a cryptic message from bond’s past sends him o...   \n",
                            "3  following the death of district attorney harve...   \n",
                            "4  john carter is a war-weary, former military ca...   \n",
                            "\n",
                            "                                         genres  \\\n",
                            "0  [action, adventure, fantasy, sciencefiction]   \n",
                            "1                  [adventure, fantasy, action]   \n",
                            "2                    [action, adventure, crime]   \n",
                            "3              [action, crime, drama, thriller]   \n",
                            "4           [action, adventure, sciencefiction]   \n",
                            "\n",
                            "                                            keywords  \\\n",
                            "0  [cultureclash, future, spacewar, spacecolony, ...   \n",
                            "1  [ocean, drugabuse, exoticisland, eastindiatrad...   \n",
                            "2  [spy, basedonnovel, secretagent, sequel, mi6, ...   \n",
                            "3  [dccomics, crimefighter, terrorist, secretiden...   \n",
                            "4  [basedonnovel, mars, medallion, spacetravel, p...   \n",
                            "\n",
                            "                                            cast                crew  \n",
                            "0  [samworthington, zoesaldana, sigourneyweaver]      [jamescameron]  \n",
                            "1     [johnnydepp, orlandobloom, keiraknightley]     [goreverbinski]  \n",
                            "2      [danielcraig, christophwaltz, léaseydoux]         [sammendes]  \n",
                            "3      [christianbale, michaelcaine, garyoldman]  [christophernolan]  \n",
                            "4    [taylorkitsch, lynncollins, samanthamorton]     [andrewstanton]  "
                        ]
                    },
                    "execution_count": 743,
                    "metadata": {},
                    "output_type": "execute_result"
                }
            ],
            "source": [
                "data_peliculas.head()"
            ]
        },
        {
            "cell_type": "code",
            "execution_count": 744,
            "metadata": {},
            "outputs": [
                {
                    "data": {
                        "text/plain": [
                            "'in the 22nd century, a paraplegic marine is dispatched to the moon pandora on a unique mission, but becomes torn between following orders and protecting an alien civilization.'"
                        ]
                    },
                    "execution_count": 744,
                    "metadata": {},
                    "output_type": "execute_result"
                }
            ],
            "source": [
                "resumen[0]"
            ]
        },
        {
            "cell_type": "code",
            "execution_count": 745,
            "metadata": {},
            "outputs": [
                {
                    "data": {
                        "text/html": [
                            "<div>\n",
                            "<style scoped>\n",
                            "    .dataframe tbody tr th:only-of-type {\n",
                            "        vertical-align: middle;\n",
                            "    }\n",
                            "\n",
                            "    .dataframe tbody tr th {\n",
                            "        vertical-align: top;\n",
                            "    }\n",
                            "\n",
                            "    .dataframe thead th {\n",
                            "        text-align: right;\n",
                            "    }\n",
                            "</style>\n",
                            "<table border=\"1\" class=\"dataframe\">\n",
                            "  <thead>\n",
                            "    <tr style=\"text-align: right;\">\n",
                            "      <th></th>\n",
                            "      <th>movie_id</th>\n",
                            "      <th>title</th>\n",
                            "      <th>overview</th>\n",
                            "      <th>genres</th>\n",
                            "      <th>keywords</th>\n",
                            "      <th>cast</th>\n",
                            "      <th>crew</th>\n",
                            "    </tr>\n",
                            "  </thead>\n",
                            "  <tbody>\n",
                            "    <tr>\n",
                            "      <th>0</th>\n",
                            "      <td>19995</td>\n",
                            "      <td>avatar</td>\n",
                            "      <td>in the 22nd century, a paraplegic marine is di...</td>\n",
                            "      <td>[action, adventure, fantasy, sciencefiction]</td>\n",
                            "      <td>[cultureclash, future, spacewar, spacecolony, ...</td>\n",
                            "      <td>[samworthington, zoesaldana, sigourneyweaver]</td>\n",
                            "      <td>[jamescameron]</td>\n",
                            "    </tr>\n",
                            "    <tr>\n",
                            "      <th>1</th>\n",
                            "      <td>285</td>\n",
                            "      <td>pirates of the caribbean: at world's end</td>\n",
                            "      <td>captain barbossa, long believed to be dead, ha...</td>\n",
                            "      <td>[adventure, fantasy, action]</td>\n",
                            "      <td>[ocean, drugabuse, exoticisland, eastindiatrad...</td>\n",
                            "      <td>[johnnydepp, orlandobloom, keiraknightley]</td>\n",
                            "      <td>[goreverbinski]</td>\n",
                            "    </tr>\n",
                            "    <tr>\n",
                            "      <th>2</th>\n",
                            "      <td>206647</td>\n",
                            "      <td>spectre</td>\n",
                            "      <td>a cryptic message from bond’s past sends him o...</td>\n",
                            "      <td>[action, adventure, crime]</td>\n",
                            "      <td>[spy, basedonnovel, secretagent, sequel, mi6, ...</td>\n",
                            "      <td>[danielcraig, christophwaltz, léaseydoux]</td>\n",
                            "      <td>[sammendes]</td>\n",
                            "    </tr>\n",
                            "    <tr>\n",
                            "      <th>3</th>\n",
                            "      <td>49026</td>\n",
                            "      <td>the dark knight rises</td>\n",
                            "      <td>following the death of district attorney harve...</td>\n",
                            "      <td>[action, crime, drama, thriller]</td>\n",
                            "      <td>[dccomics, crimefighter, terrorist, secretiden...</td>\n",
                            "      <td>[christianbale, michaelcaine, garyoldman]</td>\n",
                            "      <td>[christophernolan]</td>\n",
                            "    </tr>\n",
                            "    <tr>\n",
                            "      <th>4</th>\n",
                            "      <td>49529</td>\n",
                            "      <td>john carter</td>\n",
                            "      <td>john carter is a war-weary, former military ca...</td>\n",
                            "      <td>[action, adventure, sciencefiction]</td>\n",
                            "      <td>[basedonnovel, mars, medallion, spacetravel, p...</td>\n",
                            "      <td>[taylorkitsch, lynncollins, samanthamorton]</td>\n",
                            "      <td>[andrewstanton]</td>\n",
                            "    </tr>\n",
                            "  </tbody>\n",
                            "</table>\n",
                            "</div>"
                        ],
                        "text/plain": [
                            "   movie_id                                     title  \\\n",
                            "0     19995                                    avatar   \n",
                            "1       285  pirates of the caribbean: at world's end   \n",
                            "2    206647                                   spectre   \n",
                            "3     49026                     the dark knight rises   \n",
                            "4     49529                               john carter   \n",
                            "\n",
                            "                                            overview  \\\n",
                            "0  in the 22nd century, a paraplegic marine is di...   \n",
                            "1  captain barbossa, long believed to be dead, ha...   \n",
                            "2  a cryptic message from bond’s past sends him o...   \n",
                            "3  following the death of district attorney harve...   \n",
                            "4  john carter is a war-weary, former military ca...   \n",
                            "\n",
                            "                                         genres  \\\n",
                            "0  [action, adventure, fantasy, sciencefiction]   \n",
                            "1                  [adventure, fantasy, action]   \n",
                            "2                    [action, adventure, crime]   \n",
                            "3              [action, crime, drama, thriller]   \n",
                            "4           [action, adventure, sciencefiction]   \n",
                            "\n",
                            "                                            keywords  \\\n",
                            "0  [cultureclash, future, spacewar, spacecolony, ...   \n",
                            "1  [ocean, drugabuse, exoticisland, eastindiatrad...   \n",
                            "2  [spy, basedonnovel, secretagent, sequel, mi6, ...   \n",
                            "3  [dccomics, crimefighter, terrorist, secretiden...   \n",
                            "4  [basedonnovel, mars, medallion, spacetravel, p...   \n",
                            "\n",
                            "                                            cast                crew  \n",
                            "0  [samworthington, zoesaldana, sigourneyweaver]      [jamescameron]  \n",
                            "1     [johnnydepp, orlandobloom, keiraknightley]     [goreverbinski]  \n",
                            "2      [danielcraig, christophwaltz, léaseydoux]         [sammendes]  \n",
                            "3      [christianbale, michaelcaine, garyoldman]  [christophernolan]  \n",
                            "4    [taylorkitsch, lynncollins, samanthamorton]     [andrewstanton]  "
                        ]
                    },
                    "execution_count": 745,
                    "metadata": {},
                    "output_type": "execute_result"
                }
            ],
            "source": [
                "data_peliculas.head()"
            ]
        },
        {
            "cell_type": "markdown",
            "metadata": {},
            "source": [
                "##### Unificando las columnas: `genres`, `keywords`, `cast` y `crew`"
            ]
        },
        {
            "cell_type": "code",
            "execution_count": 746,
            "metadata": {},
            "outputs": [
                {
                    "data": {
                        "text/plain": [
                            "0    action adventure fantasy sciencefiction cultur...\n",
                            "1    adventure fantasy action ocean drugabuse exoti...\n",
                            "2    action adventure crime spy basedonnovel secret...\n",
                            "3    action crime drama thriller dccomics crimefigh...\n",
                            "4    action adventure sciencefiction basedonnovel m...\n",
                            "Name: unificado, dtype: object"
                        ]
                    },
                    "execution_count": 746,
                    "metadata": {},
                    "output_type": "execute_result"
                }
            ],
            "source": [
                "data_peliculas['unificado']=data_peliculas['genres']+data_peliculas['keywords']+data_peliculas['cast']+data_peliculas['crew']\n",
                "data_peliculas['unificado'].head()\n",
                "def eliminar_comas(valor):\n",
                "    return [str(elemento_lista).replace(\",\",\"\") for elemento_lista in valor]\n",
                "\n",
                "data_peliculas['unificado'] = data_peliculas['unificado'].apply(eliminar_comas)\n",
                "data_peliculas['unificado'] = data_peliculas['unificado'].apply(lambda x: ' '.join(x))\n",
                "data_peliculas['unificado'].head()"
            ]
        },
        {
            "cell_type": "code",
            "execution_count": 747,
            "metadata": {},
            "outputs": [],
            "source": [
                "data_knn=pd.DataFrame(columns=['tags','title'])\n",
                "data_knn['tags'] = data_peliculas['overview'].str.cat(data_peliculas['unificado'], sep=' ')\n",
                "data_knn['title']=data_peliculas['title'] "
            ]
        },
        {
            "cell_type": "code",
            "execution_count": 748,
            "metadata": {},
            "outputs": [
                {
                    "data": {
                        "text/html": [
                            "<div>\n",
                            "<style scoped>\n",
                            "    .dataframe tbody tr th:only-of-type {\n",
                            "        vertical-align: middle;\n",
                            "    }\n",
                            "\n",
                            "    .dataframe tbody tr th {\n",
                            "        vertical-align: top;\n",
                            "    }\n",
                            "\n",
                            "    .dataframe thead th {\n",
                            "        text-align: right;\n",
                            "    }\n",
                            "</style>\n",
                            "<table border=\"1\" class=\"dataframe\">\n",
                            "  <thead>\n",
                            "    <tr style=\"text-align: right;\">\n",
                            "      <th></th>\n",
                            "      <th>tags</th>\n",
                            "      <th>title</th>\n",
                            "    </tr>\n",
                            "  </thead>\n",
                            "  <tbody>\n",
                            "    <tr>\n",
                            "      <th>0</th>\n",
                            "      <td>in the 22nd century, a paraplegic marine is di...</td>\n",
                            "      <td>avatar</td>\n",
                            "    </tr>\n",
                            "    <tr>\n",
                            "      <th>1</th>\n",
                            "      <td>captain barbossa, long believed to be dead, ha...</td>\n",
                            "      <td>pirates of the caribbean: at world's end</td>\n",
                            "    </tr>\n",
                            "    <tr>\n",
                            "      <th>2</th>\n",
                            "      <td>a cryptic message from bond’s past sends him o...</td>\n",
                            "      <td>spectre</td>\n",
                            "    </tr>\n",
                            "    <tr>\n",
                            "      <th>3</th>\n",
                            "      <td>following the death of district attorney harve...</td>\n",
                            "      <td>the dark knight rises</td>\n",
                            "    </tr>\n",
                            "    <tr>\n",
                            "      <th>4</th>\n",
                            "      <td>john carter is a war-weary, former military ca...</td>\n",
                            "      <td>john carter</td>\n",
                            "    </tr>\n",
                            "  </tbody>\n",
                            "</table>\n",
                            "</div>"
                        ],
                        "text/plain": [
                            "                                                tags  \\\n",
                            "0  in the 22nd century, a paraplegic marine is di...   \n",
                            "1  captain barbossa, long believed to be dead, ha...   \n",
                            "2  a cryptic message from bond’s past sends him o...   \n",
                            "3  following the death of district attorney harve...   \n",
                            "4  john carter is a war-weary, former military ca...   \n",
                            "\n",
                            "                                      title  \n",
                            "0                                    avatar  \n",
                            "1  pirates of the caribbean: at world's end  \n",
                            "2                                   spectre  \n",
                            "3                     the dark knight rises  \n",
                            "4                               john carter  "
                        ]
                    },
                    "execution_count": 748,
                    "metadata": {},
                    "output_type": "execute_result"
                }
            ],
            "source": [
                "data_knn.head()"
            ]
        },
        {
            "cell_type": "code",
            "execution_count": 749,
            "metadata": {},
            "outputs": [
                {
                    "data": {
                        "text/plain": [
                            "'in the 22nd century, a paraplegic marine is dispatched to the moon pandora on a unique mission, but becomes torn between following orders and protecting an alien civilization. action adventure fantasy sciencefiction cultureclash future spacewar spacecolony society spacetravel futuristic romance space alien tribe alienplanet cgi marine soldier battle loveaffair antiwar powerrelations mindandsoul 3d samworthington zoesaldana sigourneyweaver jamescameron'"
                        ]
                    },
                    "execution_count": 749,
                    "metadata": {},
                    "output_type": "execute_result"
                }
            ],
            "source": [
                "data_knn.tags[0]"
            ]
        },
        {
            "cell_type": "markdown",
            "metadata": {},
            "source": [
                "### Paso 4: Construccion del KNN"
            ]
        },
        {
            "cell_type": "markdown",
            "metadata": {},
            "source": [
                "#### Vectorizacion de la Variable tags"
            ]
        },
        {
            "cell_type": "code",
            "execution_count": 750,
            "metadata": {},
            "outputs": [
                {
                    "data": {
                        "text/plain": [
                            "0    in the 22nd century, a paraplegic marine is di...\n",
                            "1    captain barbossa, long believed to be dead, ha...\n",
                            "2    a cryptic message from bond’s past sends him o...\n",
                            "3    following the death of district attorney harve...\n",
                            "4    john carter is a war-weary, former military ca...\n",
                            "Name: tags, dtype: object"
                        ]
                    },
                    "execution_count": 750,
                    "metadata": {},
                    "output_type": "execute_result"
                }
            ],
            "source": [
                "X=pd.Series(data_knn['tags'])\n",
                "X.head()"
            ]
        },
        {
            "cell_type": "code",
            "execution_count": 751,
            "metadata": {},
            "outputs": [],
            "source": [
                "def normalize_text(text):\n",
                "    return unicodedata.normalize('NFKD', text)"
            ]
        },
        {
            "cell_type": "code",
            "execution_count": 752,
            "metadata": {},
            "outputs": [],
            "source": [
                "vec_model = CountVectorizer(stop_words = \"english\", preprocessor=normalize_text)\n",
                "Xvec = vec_model.fit_transform(X).toarray()"
            ]
        },
        {
            "cell_type": "markdown",
            "metadata": {},
            "source": [
                "#### Uso Data Vectorizada\n",
                "- En este caso no tenemos una variable a predecir, nuestro código será soportado en la función cosine_similarity aplicada sobre la columna **tags** vectorizada, para hacer recomendaciones de 5 peliculas similares en función a la selección de una pelicula del DATASET. Si la pelicula no esta en el DATASET, el código arrojará un error de indice y debemos intentar con otra."
            ]
        },
        {
            "cell_type": "code",
            "execution_count": 753,
            "metadata": {},
            "outputs": [],
            "source": [
                "from sklearn.metrics.pairwise import cosine_similarity\n",
                "similarity = cosine_similarity(Xvec)"
            ]
        },
        {
            "cell_type": "code",
            "execution_count": 754,
            "metadata": {},
            "outputs": [],
            "source": [
                "def recommend(movie):\n",
                "    try:\n",
                "        movie_index = data_knn[data_knn[\"title\"] == movie.lower()].index[0]\n",
                "        distances = similarity[movie_index]\n",
                "        movie_list = sorted(list(enumerate(distances)), reverse = True , key = lambda x: x[1])[1:6]\n",
                "        for i in movie_list:\n",
                "            print(data_knn.iloc[i[0]].title)  \n",
                "    except IndexError:\n",
                "        print(\"Error: La pelicula no esta en el DATASET. Intente con otra !!!\")  "
            ]
        },
        {
            "cell_type": "code",
            "execution_count": 755,
            "metadata": {},
            "outputs": [
                {
                    "name": "stdout",
                    "output_type": "stream",
                    "text": [
                        "hercules\n",
                        "pompeii\n",
                        "the last legion\n",
                        "we were soldiers\n",
                        "underworld: rise of the lycans\n"
                    ]
                }
            ],
            "source": [
                "recommend(\"gladiator\")"
            ]
        }
    ],
    "metadata": {
        "kernelspec": {
            "display_name": "Python 3.8.13 64-bit ('3.8.13')",
            "language": "python",
            "name": "python3"
        },
        "language_info": {
            "codemirror_mode": {
                "name": "ipython",
                "version": 3
            },
            "file_extension": ".py",
            "mimetype": "text/x-python",
            "name": "python",
            "nbconvert_exporter": "python",
            "pygments_lexer": "ipython3",
            "version": "3.12.4"
        },
        "orig_nbformat": 4,
        "vscode": {
            "interpreter": {
                "hash": "110cc1dee26208153f2972f08a2ad52b6a56238dc66d48e87fb757ef2996db56"
            }
        }
    },
    "nbformat": 4,
    "nbformat_minor": 2
}
